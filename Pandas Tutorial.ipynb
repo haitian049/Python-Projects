{
 "cells": [
  {
   "cell_type": "code",
   "execution_count": 1,
   "metadata": {},
   "outputs": [
    {
     "name": "stdout",
     "output_type": "stream",
     "text": [
      "0.24.2\n"
     ]
    }
   ],
   "source": [
    "#Pandas Tutorial\n",
    "import pandas as pd\n",
    "#Check pandas version\n",
    "print(pd.__version__)"
   ]
  },
  {
   "cell_type": "markdown",
   "metadata": {},
   "source": [
    "# Series create, manipulate, querry, delete"
   ]
  },
  {
   "cell_type": "code",
   "execution_count": 2,
   "metadata": {},
   "outputs": [
    {
     "name": "stdout",
     "output_type": "stream",
     "text": [
      "0    0\n",
      "1    1\n",
      "2    2\n",
      "3    3\n",
      "4    4\n",
      "dtype: int64\n"
     ]
    }
   ],
   "source": [
    "# creating a series from a list\n",
    "arr = [0,1,2,3,4]\n",
    "s1 = pd.Series(arr)\n",
    "\n",
    "print(s1)"
   ]
  },
  {
   "cell_type": "code",
   "execution_count": 3,
   "metadata": {},
   "outputs": [
    {
     "data": {
      "text/plain": [
       "1    0\n",
       "2    1\n",
       "3    2\n",
       "4    3\n",
       "5    4\n",
       "dtype: int64"
      ]
     },
     "execution_count": 3,
     "metadata": {},
     "output_type": "execute_result"
    }
   ],
   "source": [
    "order = [1,2,3,4,5]\n",
    "s2 = pd.Series(arr, index=order)\n",
    "\n",
    "#Because we are in Jupyter we don't have to put the print statement\n",
    "s2"
   ]
  },
  {
   "cell_type": "markdown",
   "metadata": {},
   "source": [
    "# Random Arrays"
   ]
  },
  {
   "cell_type": "code",
   "execution_count": 4,
   "metadata": {},
   "outputs": [
    {
     "name": "stdout",
     "output_type": "stream",
     "text": [
      "a   -1.419737\n",
      "b    1.146370\n",
      "c   -0.864850\n",
      "d    0.612492\n",
      "e    0.104329\n",
      "dtype: float64\n"
     ]
    }
   ],
   "source": [
    "import numpy as np\n",
    "n = np.random.randn(5) #Creates a random Ndarray\n",
    "\n",
    "index = ['a','b','c','d','e'] #Modify the index (The number elements has to be equal to the number index) )\n",
    "\n",
    "s2 = pd.Series(n, index = index)\n",
    "print(s2)"
   ]
  },
  {
   "cell_type": "markdown",
   "metadata": {},
   "source": [
    "# Create Dataframe"
   ]
  },
  {
   "cell_type": "code",
   "execution_count": 5,
   "metadata": {},
   "outputs": [
    {
     "data": {
      "text/plain": [
       "DatetimeIndex(['2019-05-28 14:09:18.633852', '2019-05-29 14:09:18.633852',\n",
       "               '2019-05-30 14:09:18.633852', '2019-05-31 14:09:18.633852',\n",
       "               '2019-06-01 14:09:18.633852', '2019-06-02 14:09:18.633852'],\n",
       "              dtype='datetime64[ns]', freq='D')"
      ]
     },
     "execution_count": 5,
     "metadata": {},
     "output_type": "execute_result"
    }
   ],
   "source": [
    "#Define time sequence as index\n",
    "dates = pd.date_range('today', periods = 6)\n",
    "\n",
    "dates"
   ]
  },
  {
   "cell_type": "code",
   "execution_count": 6,
   "metadata": {},
   "outputs": [
    {
     "data": {
      "text/html": [
       "<div>\n",
       "<style scoped>\n",
       "    .dataframe tbody tr th:only-of-type {\n",
       "        vertical-align: middle;\n",
       "    }\n",
       "\n",
       "    .dataframe tbody tr th {\n",
       "        vertical-align: top;\n",
       "    }\n",
       "\n",
       "    .dataframe thead th {\n",
       "        text-align: right;\n",
       "    }\n",
       "</style>\n",
       "<table border=\"1\" class=\"dataframe\">\n",
       "  <thead>\n",
       "    <tr style=\"text-align: right;\">\n",
       "      <th></th>\n",
       "      <th>A</th>\n",
       "      <th>B</th>\n",
       "      <th>C</th>\n",
       "      <th>D</th>\n",
       "    </tr>\n",
       "  </thead>\n",
       "  <tbody>\n",
       "    <tr>\n",
       "      <th>2019-05-28 14:09:18.644822</th>\n",
       "      <td>0.857269</td>\n",
       "      <td>0.017488</td>\n",
       "      <td>3.016839</td>\n",
       "      <td>-0.156321</td>\n",
       "    </tr>\n",
       "    <tr>\n",
       "      <th>2019-05-29 14:09:18.644822</th>\n",
       "      <td>-0.180156</td>\n",
       "      <td>1.403318</td>\n",
       "      <td>-0.638160</td>\n",
       "      <td>1.051921</td>\n",
       "    </tr>\n",
       "    <tr>\n",
       "      <th>2019-05-30 14:09:18.644822</th>\n",
       "      <td>-0.052808</td>\n",
       "      <td>0.129430</td>\n",
       "      <td>-0.489112</td>\n",
       "      <td>0.106531</td>\n",
       "    </tr>\n",
       "    <tr>\n",
       "      <th>2019-05-31 14:09:18.644822</th>\n",
       "      <td>1.264126</td>\n",
       "      <td>-0.366976</td>\n",
       "      <td>0.549863</td>\n",
       "      <td>-0.775970</td>\n",
       "    </tr>\n",
       "    <tr>\n",
       "      <th>2019-06-01 14:09:18.644822</th>\n",
       "      <td>-0.491196</td>\n",
       "      <td>0.649538</td>\n",
       "      <td>-1.789524</td>\n",
       "      <td>0.994714</td>\n",
       "    </tr>\n",
       "    <tr>\n",
       "      <th>2019-06-02 14:09:18.644822</th>\n",
       "      <td>-0.687055</td>\n",
       "      <td>-0.254204</td>\n",
       "      <td>0.418378</td>\n",
       "      <td>1.673142</td>\n",
       "    </tr>\n",
       "  </tbody>\n",
       "</table>\n",
       "</div>"
      ],
      "text/plain": [
       "                                   A         B         C         D\n",
       "2019-05-28 14:09:18.644822  0.857269  0.017488  3.016839 -0.156321\n",
       "2019-05-29 14:09:18.644822 -0.180156  1.403318 -0.638160  1.051921\n",
       "2019-05-30 14:09:18.644822 -0.052808  0.129430 -0.489112  0.106531\n",
       "2019-05-31 14:09:18.644822  1.264126 -0.366976  0.549863 -0.775970\n",
       "2019-06-01 14:09:18.644822 -0.491196  0.649538 -1.789524  0.994714\n",
       "2019-06-02 14:09:18.644822 -0.687055 -0.254204  0.418378  1.673142"
      ]
     },
     "execution_count": 6,
     "metadata": {},
     "output_type": "execute_result"
    }
   ],
   "source": [
    "dates=pd.date_range('today',periods=6) #Define time sequence as index\n",
    "       \n",
    "arr = np.random.randn(6,4) #Import numpy random array\n",
    "       \n",
    "columns=['A','B','C','D'] #Use the table as the column name\n",
    "       \n",
    "df1 = pd.DataFrame(arr, index=dates, columns=columns)\n",
    "df1"
   ]
  },
  {
   "cell_type": "markdown",
   "metadata": {},
   "source": [
    "# Visualization in Pandas"
   ]
  },
  {
   "cell_type": "code",
   "execution_count": 15,
   "metadata": {
    "scrolled": true
   },
   "outputs": [
    {
     "data": {
      "text/plain": [
       "<matplotlib.axes._subplots.AxesSubplot at 0x1743dc70eb8>"
      ]
     },
     "execution_count": 15,
     "metadata": {},
     "output_type": "execute_result"
    },
    {
     "data": {
      "image/png": "[encoded data removed]",
      "text/plain": [
       "<Figure size 432x288 with 1 Axes>"
      ]
     },
     "metadata": {
      "needs_background": "light"
     },
     "output_type": "display_data"
    }
   ],
   "source": [
    "#Series and dataframe line chart\n",
    "import numpy as np\n",
    "%matplotlib inline\n",
    "\n",
    "ts = pd.Series(np.random.randn(50), index=pd.date_range('today',periods=50))\n",
    "ts = ts.cumsum()\n",
    "ts.plot()"
   ]
  },
  {
   "cell_type": "code",
   "execution_count": 14,
   "metadata": {},
   "outputs": [
    {
     "data": {
      "text/plain": [
       "<matplotlib.axes._subplots.AxesSubplot at 0x1743df9fdd8>"
      ]
     },
     "execution_count": 14,
     "metadata": {},
     "output_type": "execute_result"
    },
    {
     "data": {
      "image/png": "[encoded data removed]",
      "text/plain": [
       "<Figure size 432x288 with 1 Axes>"
      ]
     },
     "metadata": {
      "needs_background": "light"
     },
     "output_type": "display_data"
    }
   ],
   "source": [
    "df = pd.DataFrame(np.random.randn(50,4), index = ts.index, columns=['A','B','X','Y'])\n",
    "df = df.cumsum()\n",
    "df.plot()"
   ]
  },
  {
   "cell_type": "code",
   "execution_count": null,
   "metadata": {},
   "outputs": [],
   "source": []
  }
 ],
 "metadata": {
  "kernelspec": {
   "display_name": "Python 3",
   "language": "python",
   "name": "python3"
  },
  "language_info": {
   "codemirror_mode": {
    "name": "ipython",
    "version": 3
   },
   "file_extension": ".py",
   "mimetype": "text/x-python",
   "name": "python",
   "nbconvert_exporter": "python",
   "pygments_lexer": "ipython3",
   "version": "3.7.3"
  }
 },
 "nbformat": 4,
 "nbformat_minor": 2
}
