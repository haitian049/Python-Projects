{
 "cells": [
  {
   "cell_type": "code",
   "execution_count": 7,
   "metadata": {},
   "outputs": [
    {
     "name": "stdout",
     "output_type": "stream",
     "text": [
      "a is :  200 , b is :  375 , c is :  425\n",
      "\n",
      " The product of a * b * c is :  31875000\n"
     ]
    }
   ],
   "source": [
    "a,b,c = 0,0,0\n",
    "\n",
    "s = 1000;\n",
    "\n",
    "found = 0;\n",
    "\n",
    "for a in range (1, (s // 3)):\n",
    "    \n",
    "    for b in range(a,(s // 2)):\n",
    "        \n",
    "        c = s - a - b;\n",
    " \n",
    "        if (a * a) + (b * b) == c * c:\n",
    "            \n",
    "            found = 1;\n",
    "            \n",
    "            break;\n",
    "        \n",
    "    \n",
    " \n",
    "    if found == 1:\n",
    "        print('a is : ', a, ', b is : ', b,', c is : ',c)\n",
    "        print('\\n', 'The product of a * b * c is : ', (a * b * c))\n",
    "        break;"
   ]
  },
  {
   "cell_type": "code",
   "execution_count": null,
   "metadata": {},
   "outputs": [],
   "source": []
  }
 ],
 "metadata": {
  "kernelspec": {
   "display_name": "Python 3",
   "language": "python",
   "name": "python3"
  },
  "language_info": {
   "codemirror_mode": {
    "name": "ipython",
    "version": 3
   },
   "file_extension": ".py",
   "mimetype": "text/x-python",
   "name": "python",
   "nbconvert_exporter": "python",
   "pygments_lexer": "ipython3",
   "version": "3.7.3"
  }
 },
 "nbformat": 4,
 "nbformat_minor": 2
}
