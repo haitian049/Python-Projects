{
 "cells": [
  {
   "cell_type": "markdown",
   "metadata": {},
   "source": [
    "# WHAT IS NLP?"
   ]
  },
  {
   "cell_type": "markdown",
   "metadata": {},
   "source": [
    "NLP (Natural Language Processing) is a set of techniques for approaching text problems. This project will help \n",
    "you get started loading and cleaning the IMDB movie reviews, then applying a simple Bag of Words model to\n",
    "get suprisingly accurate predictions of wheather a review is thumbs-up or thumbs-down.\n",
    "\n"
   ]
  },
  {
   "cell_type": "markdown",
   "metadata": {},
   "source": [
    "## Reading the Data"
   ]
  },
  {
   "cell_type": "markdown",
   "metadata": {},
   "source": [
    "This part of my project is not platform dependent and throughout the project I will be using\n",
    "various Python modules for text processing, deep learning, random forest, and other applications.\n",
    "\n",
    "Now lets get started by reading our tab-delimited file which contains 25,000 IMDB movie reviews, each with a positive or negativee sentiment label.\n",
    "\n",
    "To do this , we can use the pandas package...."
   ]
  },
  {
   "cell_type": "code",
   "execution_count": 1,
   "metadata": {},
   "outputs": [],
   "source": [
    "import pandas as pd\n",
    "\n",
    "train = pd.read_csv(r\"C:\\Users\\Pangloss\\Downloads\\word2vec-nlp-tutorial\\labeledTrainData.tsv\", header = 0, delimiter = \"\\t\", quoting = 3)\n"
   ]
  },
  {
   "cell_type": "markdown",
   "metadata": {},
   "source": [
    "Here, \"header = 0\" indicates that the first line of the file contains column names (Explicitly pass header=0 to be able to replace existing names), \"delimiter = \\t\"indicates the field are separated by tabs and quoting  = 3 tells Python to ignore doubled quotes, otherwise you may encounter errors trying to read the file.\n",
    "\n",
    "We can make sure that we read 25,000 rows and 3 columns as follows:"
   ]
  },
  {
   "cell_type": "code",
   "execution_count": 2,
   "metadata": {},
   "outputs": [
    {
     "data": {
      "text/plain": [
       "array(['id', 'sentiment', 'review'], dtype=object)"
      ]
     },
     "execution_count": 2,
     "metadata": {},
     "output_type": "execute_result"
    }
   ],
   "source": [
    "train.shape\n",
    "\n",
    "train.columns.values"
   ]
  },
  {
   "cell_type": "markdown",
   "metadata": {},
   "source": [
    "Now lets see the first movie review in the columns named \"review\""
   ]
  },
  {
   "cell_type": "code",
   "execution_count": 3,
   "metadata": {},
   "outputs": [
    {
     "name": "stdout",
     "output_type": "stream",
     "text": [
      "\"With all this stuff going down at the moment with MJ i've started listening to his music, watching the odd documentary here and there, watched The Wiz and watched Moonwalker again. Maybe i just want to get a certain insight into this guy who i thought was really cool in the eighties just to maybe make up my mind whether he is guilty or innocent. Moonwalker is part biography, part feature film which i remember going to see at the cinema when it was originally released. Some of it has subtle messages about MJ's feeling towards the press and also the obvious message of drugs are bad m'kay.<br /><br />Visually impressive but of course this is all about Michael Jackson so unless you remotely like MJ in anyway then you are going to hate this and find it boring. Some may call MJ an egotist for consenting to the making of this movie BUT MJ and most of his fans would say that he made it for the fans which if true is really nice of him.<br /><br />The actual feature film bit when it finally starts is only on for 20 minutes or so excluding the Smooth Criminal sequence and Joe Pesci is convincing as a psychopathic all powerful drug lord. Why he wants MJ dead so bad is beyond me. Because MJ overheard his plans? Nah, Joe Pesci's character ranted that he wanted people to know it is he who is supplying drugs etc so i dunno, maybe he just hates MJ's music.<br /><br />Lots of cool things in this like MJ turning into a car and a robot and the whole Speed Demon sequence. Also, the director must have had the patience of a saint when it came to filming the kiddy Bad sequence as usually directors hate working with one kid let alone a whole bunch of them performing a complex dance scene.<br /><br />Bottom line, this movie is for people who like MJ on one level or another (which i think is most people). If not, then stay away. It does try and give off a wholesome message and ironically MJ's bestest buddy in this movie is a girl! Michael Jackson is truly one of the most talented people ever to grace this planet but is he guilty? Well, with all the attention i've gave this subject....hmmm well i don't know because people can be different behind closed doors, i know this for a fact. He is either an extremely nice but stupid guy or one of the most sickest liars. I hope he is not the latter.\"\n"
     ]
    }
   ],
   "source": [
    "print(train[\"review\"][0])"
   ]
  },
  {
   "cell_type": "markdown",
   "metadata": {},
   "source": [
    "There are HTML tags \"<br/>\", abbreviations, punctuation - all common issues when processing text from online. Our next step is to tidy up the text for machine learning"
   ]
  },
  {
   "cell_type": "markdown",
   "metadata": {},
   "source": [
    "# Data Cleaning and Text Preprocessing"
   ]
  },
  {
   "cell_type": "markdown",
   "metadata": {},
   "source": [
    "Removing HTML Markup: The BeautifulSoup Package\n",
    "\n",
    "First, I will remove the HTML tags. For this purpose, we'll use the BeautifulSoup library"
   ]
  },
  {
   "cell_type": "code",
   "execution_count": 4,
   "metadata": {},
   "outputs": [
    {
     "name": "stdout",
     "output_type": "stream",
     "text": [
      "\"With all this stuff going down at the moment with MJ i've started listening to his music, watching the odd documentary here and there, watched The Wiz and watched Moonwalker again. Maybe i just want to get a certain insight into this guy who i thought was really cool in the eighties just to maybe make up my mind whether he is guilty or innocent. Moonwalker is part biography, part feature film which i remember going to see at the cinema when it was originally released. Some of it has subtle messages about MJ's feeling towards the press and also the obvious message of drugs are bad m'kay.<br /><br />Visually impressive but of course this is all about Michael Jackson so unless you remotely like MJ in anyway then you are going to hate this and find it boring. Some may call MJ an egotist for consenting to the making of this movie BUT MJ and most of his fans would say that he made it for the fans which if true is really nice of him.<br /><br />The actual feature film bit when it finally starts is only on for 20 minutes or so excluding the Smooth Criminal sequence and Joe Pesci is convincing as a psychopathic all powerful drug lord. Why he wants MJ dead so bad is beyond me. Because MJ overheard his plans? Nah, Joe Pesci's character ranted that he wanted people to know it is he who is supplying drugs etc so i dunno, maybe he just hates MJ's music.<br /><br />Lots of cool things in this like MJ turning into a car and a robot and the whole Speed Demon sequence. Also, the director must have had the patience of a saint when it came to filming the kiddy Bad sequence as usually directors hate working with one kid let alone a whole bunch of them performing a complex dance scene.<br /><br />Bottom line, this movie is for people who like MJ on one level or another (which i think is most people). If not, then stay away. It does try and give off a wholesome message and ironically MJ's bestest buddy in this movie is a girl! Michael Jackson is truly one of the most talented people ever to grace this planet but is he guilty? Well, with all the attention i've gave this subject....hmmm well i don't know because people can be different behind closed doors, i know this for a fact. He is either an extremely nice but stupid guy or one of the most sickest liars. I hope he is not the latter.\"\n",
      "\"With all this stuff going down at the moment with MJ i've started listening to his music, watching the odd documentary here and there, watched The Wiz and watched Moonwalker again. Maybe i just want to get a certain insight into this guy who i thought was really cool in the eighties just to maybe make up my mind whether he is guilty or innocent. Moonwalker is part biography, part feature film which i remember going to see at the cinema when it was originally released. Some of it has subtle messages about MJ's feeling towards the press and also the obvious message of drugs are bad m'kay.Visually impressive but of course this is all about Michael Jackson so unless you remotely like MJ in anyway then you are going to hate this and find it boring. Some may call MJ an egotist for consenting to the making of this movie BUT MJ and most of his fans would say that he made it for the fans which if true is really nice of him.The actual feature film bit when it finally starts is only on for 20 minutes or so excluding the Smooth Criminal sequence and Joe Pesci is convincing as a psychopathic all powerful drug lord. Why he wants MJ dead so bad is beyond me. Because MJ overheard his plans? Nah, Joe Pesci's character ranted that he wanted people to know it is he who is supplying drugs etc so i dunno, maybe he just hates MJ's music.Lots of cool things in this like MJ turning into a car and a robot and the whole Speed Demon sequence. Also, the director must have had the patience of a saint when it came to filming the kiddy Bad sequence as usually directors hate working with one kid let alone a whole bunch of them performing a complex dance scene.Bottom line, this movie is for people who like MJ on one level or another (which i think is most people). If not, then stay away. It does try and give off a wholesome message and ironically MJ's bestest buddy in this movie is a girl! Michael Jackson is truly one of the most talented people ever to grace this planet but is he guilty? Well, with all the attention i've gave this subject....hmmm well i don't know because people can be different behind closed doors, i know this for a fact. He is either an extremely nice but stupid guy or one of the most sickest liars. I hope he is not the latter.\"\n"
     ]
    }
   ],
   "source": [
    "from bs4 import BeautifulSoup\n",
    "\n",
    "example1 = BeautifulSoup(train[\"review\"][0])\n",
    "\n",
    "print(train[\"review\"][0])\n",
    "print(example1.get_text())"
   ]
  },
  {
   "cell_type": "markdown",
   "metadata": {},
   "source": [
    "Calling \"get_text()\" gives you the text of the review, without tags or markup. If you browse the BeauitulfulSoup documentation, you'll see that it's a very powerful library - more poewerful than we need for this dataset. However, it is not considered a reliable practice to remove markup using regular expressions, so even for an application as simple as this, it's usually best to use a package like BeautufulSoup\n",
    "\n",
    "Dealling with Punctuation, Numbers and Stopwords: NLTK and regular expressions\n",
    "\n",
    "When considering how to clean the text we should think about the data problem we are trying to solve. For many problems, it make sense to remove punctuations. On the other hand, in this case, we are tackling a sentiment analysis problem, and it is possble that \"!!!' or \":-(\" could carry sentiment, and should be treated as words. In this project, for simplicity, we will remove the punctuations altogether\n",
    "\n",
    "To remove punctuation and numbers, we will use a package for dealing with reglar expressions, call \"re\""
   ]
  },
  {
   "cell_type": "code",
   "execution_count": 5,
   "metadata": {},
   "outputs": [
    {
     "name": "stdout",
     "output_type": "stream",
     "text": [
      " With all this stuff going down at the moment with MJ i ve started listening to his music  watching the odd documentary here and there  watched The Wiz and watched Moonwalker again  Maybe i just want to get a certain insight into this guy who i thought was really cool in the eighties just to maybe make up my mind whether he is guilty or innocent  Moonwalker is part biography  part feature film which i remember going to see at the cinema when it was originally released  Some of it has subtle messages about MJ s feeling towards the press and also the obvious message of drugs are bad m kay Visually impressive but of course this is all about Michael Jackson so unless you remotely like MJ in anyway then you are going to hate this and find it boring  Some may call MJ an egotist for consenting to the making of this movie BUT MJ and most of his fans would say that he made it for the fans which if true is really nice of him The actual feature film bit when it finally starts is only on for    minutes or so excluding the Smooth Criminal sequence and Joe Pesci is convincing as a psychopathic all powerful drug lord  Why he wants MJ dead so bad is beyond me  Because MJ overheard his plans  Nah  Joe Pesci s character ranted that he wanted people to know it is he who is supplying drugs etc so i dunno  maybe he just hates MJ s music Lots of cool things in this like MJ turning into a car and a robot and the whole Speed Demon sequence  Also  the director must have had the patience of a saint when it came to filming the kiddy Bad sequence as usually directors hate working with one kid let alone a whole bunch of them performing a complex dance scene Bottom line  this movie is for people who like MJ on one level or another  which i think is most people   If not  then stay away  It does try and give off a wholesome message and ironically MJ s bestest buddy in this movie is a girl  Michael Jackson is truly one of the most talented people ever to grace this planet but is he guilty  Well  with all the attention i ve gave this subject    hmmm well i don t know because people can be different behind closed doors  i know this for a fact  He is either an extremely nice but stupid guy or one of the most sickest liars  I hope he is not the latter  \n"
     ]
    }
   ],
   "source": [
    "import re\n",
    "\n",
    "#Use regular expressions to do a find=and=replace\n",
    "\n",
    "#re.sub(The Pattern to search for, The pattern to replace it with, The text to search)\n",
    "letters_only = re.sub(\"[^a-zA-Z]\", \" \", example1.get_text())\n",
    "\n",
    "print(letters_only)"
   ]
  },
  {
   "cell_type": "markdown",
   "metadata": {},
   "source": [
    "The re.sub() statement above says, \"Find anything that is not a lowercase letter(a-z) or an upper case letter (A-Z), and replace it with a space\"\n",
    "\n",
    "We'll also convert our reviews to lower case and split them into individual words (called \"tokenization\" in NLP lingo):\n",
    "\n",
    "Tokenization is the process of replacing sensitive data with unique identification symbols that retain all the essential information about the data without compromising its security.\n",
    "\n",
    "In this project we will use tokenization to break up the sentence into words and punctuation, and it is the first step to processing text."
   ]
  },
  {
   "cell_type": "code",
   "execution_count": 6,
   "metadata": {
    "scrolled": false
   },
   "outputs": [],
   "source": [
    "lower_case = letters_only.lower()  # Convert to lower case\n",
    "\n",
    "words = lower_case.split()         # Split into words "
   ]
  },
  {
   "cell_type": "markdown",
   "metadata": {},
   "source": [
    "Finally, we need to decide how to deal with frequently occuring words that don't carry much meaning. Such words are called 'stop words\": in English they include words such as \"a\", \"and\", \"is\", and \"the\". Conveniently, there are Python packages that come with stop word list built in. Let's import a stop word list from the Python Natural Language Toolkit (NLTK). You'll need to install the library if you don't already have it on your computer"
   ]
  },
  {
   "cell_type": "code",
   "execution_count": 7,
   "metadata": {},
   "outputs": [
    {
     "name": "stdout",
     "output_type": "stream",
     "text": [
      "['i', 'me', 'my', 'myself', 'we', 'our', 'ours', 'ourselves', 'you', \"you're\", \"you've\", \"you'll\", \"you'd\", 'your', 'yours', 'yourself', 'yourselves', 'he', 'him', 'his', 'himself', 'she', \"she's\", 'her', 'hers', 'herself', 'it', \"it's\", 'its', 'itself', 'they', 'them', 'their', 'theirs', 'themselves', 'what', 'which', 'who', 'whom', 'this', 'that', \"that'll\", 'these', 'those', 'am', 'is', 'are', 'was', 'were', 'be', 'been', 'being', 'have', 'has', 'had', 'having', 'do', 'does', 'did', 'doing', 'a', 'an', 'the', 'and', 'but', 'if', 'or', 'because', 'as', 'until', 'while', 'of', 'at', 'by', 'for', 'with', 'about', 'against', 'between', 'into', 'through', 'during', 'before', 'after', 'above', 'below', 'to', 'from', 'up', 'down', 'in', 'out', 'on', 'off', 'over', 'under', 'again', 'further', 'then', 'once', 'here', 'there', 'when', 'where', 'why', 'how', 'all', 'any', 'both', 'each', 'few', 'more', 'most', 'other', 'some', 'such', 'no', 'nor', 'not', 'only', 'own', 'same', 'so', 'than', 'too', 'very', 's', 't', 'can', 'will', 'just', 'don', \"don't\", 'should', \"should've\", 'now', 'd', 'll', 'm', 'o', 're', 've', 'y', 'ain', 'aren', \"aren't\", 'couldn', \"couldn't\", 'didn', \"didn't\", 'doesn', \"doesn't\", 'hadn', \"hadn't\", 'hasn', \"hasn't\", 'haven', \"haven't\", 'isn', \"isn't\", 'ma', 'mightn', \"mightn't\", 'mustn', \"mustn't\", 'needn', \"needn't\", 'shan', \"shan't\", 'shouldn', \"shouldn't\", 'wasn', \"wasn't\", 'weren', \"weren't\", 'won', \"won't\", 'wouldn', \"wouldn't\"]\n"
     ]
    }
   ],
   "source": [
    "import nltk\n",
    "#nltk.download()\n",
    "from nltk.corpus import stopwords\n",
    "\n",
    "print(stopwords.words(\"english\"))"
   ]
  },
  {
   "cell_type": "markdown",
   "metadata": {},
   "source": [
    "Now lets remove stopwords from our movie review"
   ]
  },
  {
   "cell_type": "code",
   "execution_count": 8,
   "metadata": {},
   "outputs": [
    {
     "name": "stdout",
     "output_type": "stream",
     "text": [
      "['stuff', 'going', 'moment', 'mj', 'started', 'listening', 'music', 'watching', 'odd', 'documentary', 'watched', 'wiz', 'watched', 'moonwalker', 'maybe', 'want', 'get', 'certain', 'insight', 'guy', 'thought', 'really', 'cool', 'eighties', 'maybe', 'make', 'mind', 'whether', 'guilty', 'innocent', 'moonwalker', 'part', 'biography', 'part', 'feature', 'film', 'remember', 'going', 'see', 'cinema', 'originally', 'released', 'subtle', 'messages', 'mj', 'feeling', 'towards', 'press', 'also', 'obvious', 'message', 'drugs', 'bad', 'kay', 'visually', 'impressive', 'course', 'michael', 'jackson', 'unless', 'remotely', 'like', 'mj', 'anyway', 'going', 'hate', 'find', 'boring', 'may', 'call', 'mj', 'egotist', 'consenting', 'making', 'movie', 'mj', 'fans', 'would', 'say', 'made', 'fans', 'true', 'really', 'nice', 'actual', 'feature', 'film', 'bit', 'finally', 'starts', 'minutes', 'excluding', 'smooth', 'criminal', 'sequence', 'joe', 'pesci', 'convincing', 'psychopathic', 'powerful', 'drug', 'lord', 'wants', 'mj', 'dead', 'bad', 'beyond', 'mj', 'overheard', 'plans', 'nah', 'joe', 'pesci', 'character', 'ranted', 'wanted', 'people', 'know', 'supplying', 'drugs', 'etc', 'dunno', 'maybe', 'hates', 'mj', 'music', 'lots', 'cool', 'things', 'like', 'mj', 'turning', 'car', 'robot', 'whole', 'speed', 'demon', 'sequence', 'also', 'director', 'must', 'patience', 'saint', 'came', 'filming', 'kiddy', 'bad', 'sequence', 'usually', 'directors', 'hate', 'working', 'one', 'kid', 'let', 'alone', 'whole', 'bunch', 'performing', 'complex', 'dance', 'scene', 'bottom', 'line', 'movie', 'people', 'like', 'mj', 'one', 'level', 'another', 'think', 'people', 'stay', 'away', 'try', 'give', 'wholesome', 'message', 'ironically', 'mj', 'bestest', 'buddy', 'movie', 'girl', 'michael', 'jackson', 'truly', 'one', 'talented', 'people', 'ever', 'grace', 'planet', 'guilty', 'well', 'attention', 'gave', 'subject', 'hmmm', 'well', 'know', 'people', 'different', 'behind', 'closed', 'doors', 'know', 'fact', 'either', 'extremely', 'nice', 'stupid', 'guy', 'one', 'sickest', 'liars', 'hope', 'latter']\n"
     ]
    }
   ],
   "source": [
    "words = [w for w in words if not w in stopwords.words(\"english\")]\n",
    "print(words)"
   ]
  },
  {
   "cell_type": "markdown",
   "metadata": {},
   "source": [
    "This looks at each word in our \"words\" list , and discards anything that is found in the list of stop words.\n",
    "\n",
    "There are many other things we could do to the data - For example, Porter Stemming and Lemmatizing (both available in NLTK) would allow us to treat \"messages\", \"message\", and \"messaging\" as the same word, which could certainly be useful. However, for simplicity of the project this will be the end of the first part  of the project.\n",
    "\n",
    "Putting it all together\n",
    "\n",
    "Now we have code to clean one review - but we need to clean 25,000 training reviews! To make our code reusable, let's create a function than can  be called many times:"
   ]
  },
  {
   "cell_type": "code",
   "execution_count": 9,
   "metadata": {},
   "outputs": [],
   "source": [
    "def review_to_words( raw_review):\n",
    "    # Function to convert a raw review to a string of words\n",
    "    # The input is a single string ( a raw movie review), and \n",
    "    # the output is a single string( a preprocessed movie review)\n",
    "    #\n",
    "    # 1. Remove HTML\n",
    "    review_text = BeautifulSoup(raw_review).get_text()\n",
    "    #\n",
    "    # 2. Remove non-letters        \n",
    "    letters_only = re.sub(\"[^a-zA-Z]\", \" \", review_text) \n",
    "    #\n",
    "    # 3. Convert to lower case, split into individual words\n",
    "    words = letters_only.lower().split()\n",
    "    \n",
    "    #\n",
    "    # 4. In Pythonm searching a set is much faster than serarching \n",
    "    #    a list, so convert the stop words to a set\n",
    "    stops = set(stopwords.words(\"english\"))\n",
    "    #\n",
    "    # 5. Remove stop words\n",
    "    meaningful_words = [w for w in words if not w in stops]   \n",
    "    #\n",
    "    # 6. Join the words back into one string sparated by space,\n",
    "    # and return the result.\n",
    "    return( \" \".join(meaningful_words ))"
   ]
  },
  {
   "cell_type": "markdown",
   "metadata": {},
   "source": [
    "Two elements here are new: First, we converted the stop word list to a different data type, a set. This is for speed; since we'll be calling this\n",
    "function tens of thousands of times, it needs to be fast, and searching sets\n",
    "in Python is much faster than searching list.\n",
    "\n",
    "Second, we joined the words back into one paragraph. This is to make the output easier to use in our Bag of Words.\n",
    "\n",
    "Now let's loop through and clean all of the training set at once (this might take a few minutes depending on your computer)"
   ]
  },
  {
   "cell_type": "code",
   "execution_count": 10,
   "metadata": {},
   "outputs": [],
   "source": [
    "## Get the number of reviews based on the dataframe column size\n",
    "\n",
    "\n",
    "## Initialize an empty list to hold the clean reviews\n",
    "#clean_train_reviews = []\n",
    "\n",
    "## Loop over each review; create an index \"i\" that goes from 0 to the length\n",
    "## of the movie review list\n",
    "#for i in xrange( 0, num_reviews):\n",
    "    # Call our functon for each one, and add the result to the list of \n",
    "    # clean reviews\n",
    "  #  clean_train_reviews.append( review_to_words( train[\"review\"][i] ) )"
   ]
  },
  {
   "cell_type": "markdown",
   "metadata": {},
   "source": [
    "Sometimes it can be annoying to wait for a lengthy piece of code to run. It can be helpful to write code so that it gives status updates. To have Python print a status update after every 100 reviews that it processes, try adding a line or two to code above:"
   ]
  },
  {
   "cell_type": "code",
   "execution_count": 11,
   "metadata": {},
   "outputs": [
    {
     "name": "stdout",
     "output_type": "stream",
     "text": [
      "Cleaning and parsing the training set movie reviews...\n",
      "\n",
      "Review 100 of 25000\n",
      "\n",
      "Review 200 of 25000\n",
      "\n",
      "Review 300 of 25000\n",
      "\n",
      "Review 400 of 25000\n",
      "\n",
      "Review 500 of 25000\n",
      "\n",
      "Review 600 of 25000\n",
      "\n",
      "Review 700 of 25000\n",
      "\n",
      "Review 800 of 25000\n",
      "\n",
      "Review 900 of 25000\n",
      "\n",
      "Review 1000 of 25000\n",
      "\n",
      "Review 1100 of 25000\n",
      "\n",
      "Review 1200 of 25000\n",
      "\n",
      "Review 1300 of 25000\n",
      "\n",
      "Review 1400 of 25000\n",
      "\n",
      "Review 1500 of 25000\n",
      "\n",
      "Review 1600 of 25000\n",
      "\n",
      "Review 1700 of 25000\n",
      "\n",
      "Review 1800 of 25000\n",
      "\n",
      "Review 1900 of 25000\n",
      "\n",
      "Review 2000 of 25000\n",
      "\n",
      "Review 2100 of 25000\n",
      "\n",
      "Review 2200 of 25000\n",
      "\n",
      "Review 2300 of 25000\n",
      "\n",
      "Review 2400 of 25000\n",
      "\n",
      "Review 2500 of 25000\n",
      "\n",
      "Review 2600 of 25000\n",
      "\n",
      "Review 2700 of 25000\n",
      "\n",
      "Review 2800 of 25000\n",
      "\n",
      "Review 2900 of 25000\n",
      "\n",
      "Review 3000 of 25000\n",
      "\n",
      "Review 3100 of 25000\n",
      "\n",
      "Review 3200 of 25000\n",
      "\n",
      "Review 3300 of 25000\n",
      "\n",
      "Review 3400 of 25000\n",
      "\n",
      "Review 3500 of 25000\n",
      "\n",
      "Review 3600 of 25000\n",
      "\n",
      "Review 3700 of 25000\n",
      "\n",
      "Review 3800 of 25000\n",
      "\n",
      "Review 3900 of 25000\n",
      "\n",
      "Review 4000 of 25000\n",
      "\n",
      "Review 4100 of 25000\n",
      "\n",
      "Review 4200 of 25000\n",
      "\n",
      "Review 4300 of 25000\n",
      "\n",
      "Review 4400 of 25000\n",
      "\n",
      "Review 4500 of 25000\n",
      "\n",
      "Review 4600 of 25000\n",
      "\n",
      "Review 4700 of 25000\n",
      "\n",
      "Review 4800 of 25000\n",
      "\n",
      "Review 4900 of 25000\n",
      "\n",
      "Review 5000 of 25000\n",
      "\n",
      "Review 5100 of 25000\n",
      "\n",
      "Review 5200 of 25000\n",
      "\n",
      "Review 5300 of 25000\n",
      "\n",
      "Review 5400 of 25000\n",
      "\n",
      "Review 5500 of 25000\n",
      "\n",
      "Review 5600 of 25000\n",
      "\n",
      "Review 5700 of 25000\n",
      "\n",
      "Review 5800 of 25000\n",
      "\n",
      "Review 5900 of 25000\n",
      "\n",
      "Review 6000 of 25000\n",
      "\n",
      "Review 6100 of 25000\n",
      "\n",
      "Review 6200 of 25000\n",
      "\n",
      "Review 6300 of 25000\n",
      "\n",
      "Review 6400 of 25000\n",
      "\n",
      "Review 6500 of 25000\n",
      "\n",
      "Review 6600 of 25000\n",
      "\n",
      "Review 6700 of 25000\n",
      "\n",
      "Review 6800 of 25000\n",
      "\n",
      "Review 6900 of 25000\n",
      "\n",
      "Review 7000 of 25000\n",
      "\n",
      "Review 7100 of 25000\n",
      "\n",
      "Review 7200 of 25000\n",
      "\n",
      "Review 7300 of 25000\n",
      "\n",
      "Review 7400 of 25000\n",
      "\n",
      "Review 7500 of 25000\n",
      "\n",
      "Review 7600 of 25000\n",
      "\n",
      "Review 7700 of 25000\n",
      "\n",
      "Review 7800 of 25000\n",
      "\n",
      "Review 7900 of 25000\n",
      "\n",
      "Review 8000 of 25000\n",
      "\n",
      "Review 8100 of 25000\n",
      "\n",
      "Review 8200 of 25000\n",
      "\n",
      "Review 8300 of 25000\n",
      "\n",
      "Review 8400 of 25000\n",
      "\n",
      "Review 8500 of 25000\n",
      "\n",
      "Review 8600 of 25000\n",
      "\n",
      "Review 8700 of 25000\n",
      "\n",
      "Review 8800 of 25000\n",
      "\n",
      "Review 8900 of 25000\n",
      "\n",
      "Review 9000 of 25000\n",
      "\n",
      "Review 9100 of 25000\n",
      "\n",
      "Review 9200 of 25000\n",
      "\n",
      "Review 9300 of 25000\n",
      "\n",
      "Review 9400 of 25000\n",
      "\n",
      "Review 9500 of 25000\n",
      "\n",
      "Review 9600 of 25000\n",
      "\n",
      "Review 9700 of 25000\n",
      "\n",
      "Review 9800 of 25000\n",
      "\n",
      "Review 9900 of 25000\n",
      "\n",
      "Review 10000 of 25000\n",
      "\n",
      "Review 10100 of 25000\n",
      "\n",
      "Review 10200 of 25000\n",
      "\n",
      "Review 10300 of 25000\n",
      "\n",
      "Review 10400 of 25000\n",
      "\n",
      "Review 10500 of 25000\n",
      "\n",
      "Review 10600 of 25000\n",
      "\n",
      "Review 10700 of 25000\n",
      "\n",
      "Review 10800 of 25000\n",
      "\n",
      "Review 10900 of 25000\n",
      "\n",
      "Review 11000 of 25000\n",
      "\n",
      "Review 11100 of 25000\n",
      "\n",
      "Review 11200 of 25000\n",
      "\n",
      "Review 11300 of 25000\n",
      "\n",
      "Review 11400 of 25000\n",
      "\n",
      "Review 11500 of 25000\n",
      "\n",
      "Review 11600 of 25000\n",
      "\n",
      "Review 11700 of 25000\n",
      "\n",
      "Review 11800 of 25000\n",
      "\n",
      "Review 11900 of 25000\n",
      "\n",
      "Review 12000 of 25000\n",
      "\n",
      "Review 12100 of 25000\n",
      "\n",
      "Review 12200 of 25000\n",
      "\n",
      "Review 12300 of 25000\n",
      "\n",
      "Review 12400 of 25000\n",
      "\n",
      "Review 12500 of 25000\n",
      "\n",
      "Review 12600 of 25000\n",
      "\n",
      "Review 12700 of 25000\n",
      "\n",
      "Review 12800 of 25000\n",
      "\n",
      "Review 12900 of 25000\n",
      "\n",
      "Review 13000 of 25000\n",
      "\n",
      "Review 13100 of 25000\n",
      "\n",
      "Review 13200 of 25000\n",
      "\n",
      "Review 13300 of 25000\n",
      "\n",
      "Review 13400 of 25000\n",
      "\n",
      "Review 13500 of 25000\n",
      "\n",
      "Review 13600 of 25000\n",
      "\n",
      "Review 13700 of 25000\n",
      "\n",
      "Review 13800 of 25000\n",
      "\n",
      "Review 13900 of 25000\n",
      "\n",
      "Review 14000 of 25000\n",
      "\n",
      "Review 14100 of 25000\n",
      "\n",
      "Review 14200 of 25000\n",
      "\n",
      "Review 14300 of 25000\n",
      "\n",
      "Review 14400 of 25000\n",
      "\n",
      "Review 14500 of 25000\n",
      "\n",
      "Review 14600 of 25000\n",
      "\n",
      "Review 14700 of 25000\n",
      "\n",
      "Review 14800 of 25000\n",
      "\n",
      "Review 14900 of 25000\n",
      "\n",
      "Review 15000 of 25000\n",
      "\n",
      "Review 15100 of 25000\n",
      "\n",
      "Review 15200 of 25000\n",
      "\n",
      "Review 15300 of 25000\n",
      "\n",
      "Review 15400 of 25000\n",
      "\n",
      "Review 15500 of 25000\n",
      "\n",
      "Review 15600 of 25000\n",
      "\n",
      "Review 15700 of 25000\n",
      "\n",
      "Review 15800 of 25000\n",
      "\n",
      "Review 15900 of 25000\n",
      "\n",
      "Review 16000 of 25000\n",
      "\n",
      "Review 16100 of 25000\n",
      "\n",
      "Review 16200 of 25000\n",
      "\n",
      "Review 16300 of 25000\n",
      "\n",
      "Review 16400 of 25000\n",
      "\n",
      "Review 16500 of 25000\n",
      "\n",
      "Review 16600 of 25000\n",
      "\n",
      "Review 16700 of 25000\n",
      "\n",
      "Review 16800 of 25000\n",
      "\n",
      "Review 16900 of 25000\n",
      "\n",
      "Review 17000 of 25000\n",
      "\n",
      "Review 17100 of 25000\n",
      "\n",
      "Review 17200 of 25000\n",
      "\n",
      "Review 17300 of 25000\n",
      "\n",
      "Review 17400 of 25000\n",
      "\n",
      "Review 17500 of 25000\n",
      "\n",
      "Review 17600 of 25000\n",
      "\n",
      "Review 17700 of 25000\n",
      "\n",
      "Review 17800 of 25000\n",
      "\n",
      "Review 17900 of 25000\n",
      "\n",
      "Review 18000 of 25000\n",
      "\n",
      "Review 18100 of 25000\n",
      "\n",
      "Review 18200 of 25000\n",
      "\n",
      "Review 18300 of 25000\n",
      "\n",
      "Review 18400 of 25000\n",
      "\n",
      "Review 18500 of 25000\n",
      "\n",
      "Review 18600 of 25000\n",
      "\n",
      "Review 18700 of 25000\n",
      "\n",
      "Review 18800 of 25000\n",
      "\n",
      "Review 18900 of 25000\n",
      "\n",
      "Review 19000 of 25000\n",
      "\n",
      "Review 19100 of 25000\n",
      "\n",
      "Review 19200 of 25000\n",
      "\n",
      "Review 19300 of 25000\n",
      "\n",
      "Review 19400 of 25000\n",
      "\n",
      "Review 19500 of 25000\n",
      "\n",
      "Review 19600 of 25000\n",
      "\n",
      "Review 19700 of 25000\n",
      "\n",
      "Review 19800 of 25000\n",
      "\n",
      "Review 19900 of 25000\n",
      "\n",
      "Review 20000 of 25000\n",
      "\n",
      "Review 20100 of 25000\n",
      "\n",
      "Review 20200 of 25000\n",
      "\n",
      "Review 20300 of 25000\n",
      "\n",
      "Review 20400 of 25000\n",
      "\n",
      "Review 20500 of 25000\n",
      "\n",
      "Review 20600 of 25000\n",
      "\n",
      "Review 20700 of 25000\n",
      "\n",
      "Review 20800 of 25000\n",
      "\n",
      "Review 20900 of 25000\n",
      "\n",
      "Review 21000 of 25000\n",
      "\n",
      "Review 21100 of 25000\n",
      "\n",
      "Review 21200 of 25000\n",
      "\n",
      "Review 21300 of 25000\n",
      "\n",
      "Review 21400 of 25000\n",
      "\n",
      "Review 21500 of 25000\n",
      "\n",
      "Review 21600 of 25000\n",
      "\n",
      "Review 21700 of 25000\n",
      "\n",
      "Review 21800 of 25000\n",
      "\n",
      "Review 21900 of 25000\n",
      "\n",
      "Review 22000 of 25000\n",
      "\n",
      "Review 22100 of 25000\n",
      "\n",
      "Review 22200 of 25000\n",
      "\n",
      "Review 22300 of 25000\n",
      "\n",
      "Review 22400 of 25000\n",
      "\n",
      "Review 22500 of 25000\n",
      "\n",
      "Review 22600 of 25000\n",
      "\n",
      "Review 22700 of 25000\n",
      "\n",
      "Review 22800 of 25000\n",
      "\n",
      "Review 22900 of 25000\n",
      "\n",
      "Review 23000 of 25000\n",
      "\n",
      "Review 23100 of 25000\n",
      "\n",
      "Review 23200 of 25000\n",
      "\n",
      "Review 23300 of 25000\n",
      "\n",
      "Review 23400 of 25000\n",
      "\n",
      "Review 23500 of 25000\n",
      "\n",
      "Review 23600 of 25000\n",
      "\n",
      "Review 23700 of 25000\n",
      "\n",
      "Review 23800 of 25000\n",
      "\n",
      "Review 23900 of 25000\n",
      "\n",
      "Review 24000 of 25000\n",
      "\n",
      "Review 24100 of 25000\n",
      "\n",
      "Review 24200 of 25000\n",
      "\n",
      "Review 24300 of 25000\n",
      "\n",
      "Review 24400 of 25000\n",
      "\n",
      "Review 24500 of 25000\n",
      "\n",
      "Review 24600 of 25000\n",
      "\n",
      "Review 24700 of 25000\n",
      "\n",
      "Review 24800 of 25000\n",
      "\n",
      "Review 24900 of 25000\n",
      "\n",
      "Review 25000 of 25000\n",
      "\n"
     ]
    }
   ],
   "source": [
    "print(\"Cleaning and parsing the training set movie reviews...\\n\")\n",
    "\n",
    "num_reviews = train[\"review\"].size\n",
    "\n",
    "clean_train_reviews = []\n",
    "\n",
    "for x in range( 0, num_reviews ):\n",
    "    # If the index is evenly divisible by 100, print a message\n",
    "    if( (x+1)%100 == 0 ):\n",
    "        print( \"Review %d of %d\\n\" % ( x+1, num_reviews ))\n",
    "    clean_train_reviews.append( review_to_words( train[\"review\"][x] ) )"
   ]
  },
  {
   "cell_type": "markdown",
   "metadata": {},
   "source": [
    "# Creating Features from a Bag of Words (Using scikit-learn)"
   ]
  },
  {
   "cell_type": "markdown",
   "metadata": {},
   "source": [
    "Now tha we have our training reviews tidied up, how do we convert them to some kind of numeric representation for machine learning? One common approach is called a Bag of Words. The Bag of Words model learns a vocabulary from all of the documents, then models each document by counting the number times each word apprears. For example, consider the following two sentences:\n",
    "\n",
    "Sentence 1: \"The cat sat on the hat\"\n",
    "\n",
    "Sentence 2: \"The dog ate the cat and the hat\"\n",
    "\n",
    "From these two senetences, our vocabulary is as follows:\n",
    "\n",
    "{the, cat, sat, on, dog, ate, and}\n",
    "\n",
    "To get our bags of words, we count the number of times each word occurs in each sentence. In Sentence 1, \"The\" apprears twice. and \"cat\", \"sat\", \"on\" and \"hat\" each apprear once, so the feature vector for Sentence 1 is:\n",
    "\n",
    "{the, cat, sat, on, hat, dog, ate, and}\n",
    "\n",
    "Sentence 1: {2, 1, 1, 1, 1, 0, 0, 0}\n",
    "\n",
    "Similarly, the features for Sentence 2 are: {3, 1, 0, 0, 1, 1, 1, 1}\n",
    "\n",
    "In the IDMB data, we have a large number of reviews, which will give us a large vocabulary. To limit the size of the feature vectors, we should choose some maximum vocabulary size. Below, we use the 5000 most frequent words (remembering that stop words have already been removed).\n",
    "\n",
    "We'll be using the feature_extraction module from scikit-learn to create bag-of-words features."
   ]
  },
  {
   "cell_type": "code",
   "execution_count": 12,
   "metadata": {},
   "outputs": [
    {
     "name": "stdout",
     "output_type": "stream",
     "text": [
      "Creating the bag of words...\n",
      "\n"
     ]
    }
   ],
   "source": [
    "print(\"Creating the bag of words...\\n\")\n",
    "\n",
    "from sklearn.feature_extraction.text import CountVectorizer\n",
    "\n",
    "#Initialize the \"CountVectorizer\" object, which is scikit-learn's\n",
    "# bag of words tool\n",
    "\n",
    "vectorizer = CountVectorizer( analyzer = \"word\", \n",
    "                              tokenizer = None,\n",
    "                              preprocessor = None,\n",
    "                              stop_words = None,\n",
    "                              max_features = 5000)\n",
    "\n",
    "#fit_transform() does two function: First, it fits the model\n",
    "# and learns the vocabulary; second, it transforms our training data\n",
    "# into feature vectors.The input to fit_transform should be a list of\n",
    "# strings\n",
    "\n",
    "train_data_features = vectorizer.fit_transform(clean_train_reviews)\n",
    "\n",
    "#Numpy arrays are easy to work with, so convert the result to an array\n",
    "\n",
    "train_data_features = train_data_features.toarray()"
   ]
  },
  {
   "cell_type": "code",
   "execution_count": 13,
   "metadata": {},
   "outputs": [
    {
     "data": {
      "text/plain": [
       "(25000, 5000)"
      ]
     },
     "execution_count": 13,
     "metadata": {},
     "output_type": "execute_result"
    }
   ],
   "source": [
    "train_data_features.shape"
   ]
  },
  {
   "cell_type": "markdown",
   "metadata": {},
   "source": [
    "It has 25,000 rows and 5,000 features (one or each vocabulary word).\n",
    "\n",
    "Note that CountVectorizer comes with its own options to automatically do preprocessing m tokenization, and stop word removal == for each of these, instead of specifying \"None\", we coulod have used built-in method or specified our own function to use. However, we wanted to write our own function for data cleaning in this project to show you how it's done step by step.\n",
    "\n",
    "Now that the Bag of Words model is trained, let's look at the vocabulary:"
   ]
  },
  {
   "cell_type": "code",
   "execution_count": 22,
   "metadata": {},
   "outputs": [
    {
     "name": "stdout",
     "output_type": "stream",
     "text": [
      "dict_keys(['stuff', 'going', 'moment', 'started', 'listening', 'music', 'watching', 'odd', 'documentary', 'watched', 'maybe', 'want', 'get', 'certain', 'insight', 'guy', 'thought', 'really', 'cool', 'eighties', 'make', 'mind', 'whether', 'guilty', 'innocent', 'part', 'biography', 'feature', 'film', 'remember', 'see', 'cinema', 'originally', 'released', 'subtle', 'messages', 'feeling', 'towards', 'press', 'also', 'obvious', 'message', 'drugs', 'bad', 'kay', 'visually', 'impressive', 'course', 'michael', 'jackson', 'unless', 'remotely', 'like', 'anyway', 'hate', 'find', 'boring', 'may', 'call', 'making', 'movie', 'fans', 'would', 'say', 'made', 'true', 'nice', 'actual', 'bit', 'finally', 'starts', 'minutes', 'smooth', 'criminal', 'sequence', 'joe', 'convincing', 'powerful', 'drug', 'lord', 'wants', 'dead', 'beyond', 'plans', 'character', 'wanted', 'people', 'know', 'etc', 'hates', 'lots', 'things', 'turning', 'car', 'robot', 'whole', 'speed', 'demon', 'director', 'must', 'patience', 'came', 'filming', 'usually', 'directors', 'working', 'one', 'kid', 'let', 'alone', 'bunch', 'performing', 'complex', 'dance', 'scene', 'bottom', 'line', 'level', 'another', 'think', 'stay', 'away', 'try', 'give', 'ironically', 'buddy', 'girl', 'truly', 'talented', 'ever', 'grace', 'planet', 'well', 'attention', 'gave', 'subject', 'different', 'behind', 'closed', 'doors', 'fact', 'either', 'extremely', 'stupid', 'hope', 'latter', 'classic', 'war', 'worlds', 'timothy', 'entertaining', 'obviously', 'goes', 'great', 'effort', 'wells', 'book', 'mr', 'succeeds', 'appreciated', 'standard', 'predictable', 'hollywood', 'fare', 'comes', 'every', 'year', 'spielberg', 'version', 'tom', 'cruise', 'slightest', 'resemblance', 'everyone', 'looks', 'amateur', 'critics', 'look', 'everything', 'others', 'rate', 'important', 'entertained', 'never', 'agree', 'enjoyed', 'put', 'faithful', 'novel', 'found', 'easy', 'overlook', 'manager', 'nicholas', 'bell', 'giving', 'welcome', 'robert', 'carradine', 'park', 'secret', 'project', 'animal', 'using', 'scientists', 'nature', 'tiger', 'scientific', 'turns', 'deadly', 'however', 'high', 'opened', 'creature', 'escape', 'begins', 'prey', 'human', 'meanwhile', 'enter', 'area', 'security', 'center', 'attacked', 'pack', 'large', 'pre', 'historical', 'animals', 'bigger', 'addition', 'agent', 'mate', 'brian', 'fight', 'hardly', 'real', 'star', 'stars', 'though', 'giant', 'group', 'run', 'furthermore', 'third', 'dangerous', 'slow', 'victims', 'delivers', 'blood', 'gore', 'hair', 'raising', 'full', 'scares', 'appear', 'mediocre', 'special', 'effects', 'story', 'provides', 'exciting', 'entertainment', 'results', 'quite', 'majority', 'computer', 'seem', 'totally', 'lousy', 'performances', 'players', 'becoming', 'food', 'actors', 'physical', 'running', 'bound', 'walls', 'ridiculous', 'final', 'small', 'kids', 'realistic', 'gory', 'violent', 'attack', 'scenes', 'films', 'following', 'james', 'angel', 'david', 'keith', 'john', 'davies', 'much', 'better', 'steven', 'cliff', 'curtis', 'motion', 'picture', 'filled', 'bloody', 'moments', 'badly', 'directed', 'george', 'miller', 'originality', 'takes', 'many', 'elements', 'previous', 'australian', 'television', 'wave', 'journey', 'earth', 'occasionally', 'man', 'river', 'robinson', 'rating', 'average', 'assumed', 'greatest', 'filmed', 'opera', 'read', 'somewhere', 'care', 'anything', 'except', 'desire', 'song', 'strikes', 'disaster', 'reading', 'score', 'matched', 'text', 'questionable', 'ideas', 'matter', 'play', 'especially', 'shakespeare', 'allowed', 'anywhere', 'near', 'theatre', 'studio', 'without', 'decided', 'title', 'kind', 'babe', 'continues', 'sing', 'singers', 'double', 'seen', 'face', 'heard', 'voice', 'appears', 'exposure', 'playing', 'good', 'friday', 'way', 'represented', 'stuck', 'ill', 'laid', 'sometimes', 'piece', 'thoughts', 'mountain', 'provided', 'julie', 'andrews', 'sound', 'hard', 'endure', 'voices', 'particular', 'adds', 'sort', 'uninspired', 'someone', 'review', 'mentioned', 'recording', 'often', 'altogether', 'lacks', 'sense', 'flow', 'half', 'century', 'set', 'modern', 'still', 'superior', 'superbly', 'trashy', 'exploitation', 'credits', 'opening', 'sequences', 'somewhat', 'false', 'impression', 'dealing', 'serious', 'drama', 'need', 'fear', 'barely', 'ten', 'later', 'nonsensical', 'battles', 'rough', 'fights', 'dialogs', 'gratuitous', 'nudity', 'bo', 'two', 'close', 'even', 'slightly', 'relationship', 'imagine', 'covers', 'sister', 'naked', 'body', 'several', 'judging', 'dubbed', 'laughter', 'sick', 'dude', 'russia', 'parents', 'nasty', 'soldiers', 'brutally', 'daddy', 'friendly', 'took', 'raised', 'trained', 'expert', 'plot', 'years', 'facing', 'ultimate', 'quest', 'incredibly', 'valuable', 'white', 'fire', 'diamond', 'mine', 'life', 'little', 'narrative', 'structure', 'sure', 'lot', 'fun', 'watch', 'time', 'clue', 'beating', 'cause', 'bet', 'understood', 'less', 'whatever', 'violence', 'single', 'twist', 'retarded', 'script', 'suddenly', 'reveal', 'reason', 'needs', 'fred', 'enters', 'big', 'mouth', 'sleazy', 'black', 'local', 'principal', 'italian', 'chick', 'breasts', 'hideous', 'accent', 'catchy', 'theme', 'plays', 'least', 'dozen', 'times', 'throughout', 'falling', 'love', 'montage', 'loads', 'god', 'brilliant', 'experience', 'original', 'french', 'survive', 'appropriate', 'makes', 'rest', 'none', 'got', 'pretty', 'action', 'change', 'location', 'harry', 'hurt', 'offensive', 'eastwood', 'form', 'dirty', 'liked', 'pat', 'town', 'cop', 'pool', 'could', 'short', 'cheesy', 'acting', 'looked', 'past', 'background', 'centers', 'around', 'evil', 'witch', 'woman', 'gets', 'drags', 'clearly', 'explains', 'keeps', 'christopher', 'walken', 'completely', 'senseless', 'potential', 'tv', 'avoid', 'video', 'friend', 'house', 'glad', 'waste', 'money', 'buying', 'cover', 'clips', 'rocket', 'blow', 'ups', 'related', 'flight', 'smoking', 'gun', 'clip', 'broadcast', 'instead', 'letting', 'us', 'listen', 'crew', 'ends', 'showing', 'claims', 'photography', 'lead', 'believe', 'ignorant', 'american', 'general', 'science', 'bought', 'despite', 'featuring', 'names', 'adam', 'sandler', 'billy', 'bob', 'burt', 'young', 'funny', 'taking', 'straight', 'uses', 'tired', 'comedic', 'techniques', 'consistently', 'breaking', 'fourth', 'wall', 'talks', 'audience', 'seemingly', 'pointless', 'hot', 'girls', 'ship', 'successful', 'comedian', 'order', 'become', 'women', 'resident', 'named', 'due', 'success', 'opposite', 'gender', 'lost', 'sea', 'break', 'rather', 'locked', 'bathroom', 'presumably', 'perhaps', 'worst', 'references', 'mad', 'max', 'ii', 'wild', 'clear', 'reference', 'tribute', 'peter', 'masterpiece', 'talk', 'future', 'happens', 'army', 'eastern', 'european', 'forces', 'south', 'border', 'gary', 'kicks', 'laughable', 'example', 'era', 'cultural', 'decent', 'supporting', 'cast', 'headed', 'jones', 'although', 'generally', 'believing', 'exception', 'actually', 'far', 'comment', 'remake', 'opinion', 'purely', 'comparison', 'written', 'question', 'words', 'anthony', 'eric', 'roberts', 'superb', 'movies', 'case', 'always', 'wondered', 'number', 'famous', 'brother', 'top', 'recommend', 'keep', 'dvd', 'harvey', 'lights', 'performance', 'tight', 'teacher', 'based', 'deep', 'emotions', 'surprising', 'range', 'feelings', 'moving', 'portray', 'mike', 'expected', 'school', 'bus', 'trip', 'used', 'comic', 'purposes', 'central', 'situation', 'visit', 'contained', 'dramatic', 'almost', 'acts', 'introduced', 'urban', 'british', 'tell', 'private', 'public', 'mean', 'naturally', 'recognized', 'usual', 'junior', 'social', 'puts', 'warmth', 'role', 'leads', 'crisis', 'remain', 'portrayed', 'ben', 'miles', 'fed', 'lesson', 'religious', 'faith', 'bbc', 'showed', 'england', 'america', 'christmas', 'summer', 'key', 'redemption', 'played', 'week', 'touching', 'reach', 'unexpected', 'unfortunately', 'saw', 'intense', 'commercials', 'heavy', 'handed', 'calling', 'road', 'quiet', 'best', 'men', 'holiday', 'right', 'looking', 'product', 'repeatedly', 'stranger', 'sounds', 'nothing', 'editing', 'grade', 'amateurish', 'enough', 'hire', 'couple', 'ok', 'poster', 'said', 'problems', 'post', 'production', 'dubbing', 'flick', 'rent', 'asking', 'miss', 'kelly', 'note', 'mystery', 'theater', 'favorite', 'simply', 'complete', 'credit', 'mst', 'trying', 'dialog', 'bill', 'hand', 'club', 'buy', 'hamlet', 'stephen', 'king', 'adaptation', 'scripted', 'family', 'rural', 'pet', 'home', 'father', 'finds', 'ground', 'powers', 'buried', 'back', 'horror', 'clumsy', 'insulting', 'inept', 'absolute', 'element', 'worthless', 'toward', 'end', 'genuinely', 'disturbing', 'finale', 'point', 'something', 'memorable', 'wise', 'old', 'aged', 'neighbor', 'brad', 'spirit', 'victor', 'cameo', 'followed', 'sequel', 'mary', 'wonder', 'mainstream', 'work', 'since', 'matrix', 'blockbuster', 'fantastic', 'provoking', 'twilight', 'zone', 'manner', 'rule', 'match', 'worse', 'compare', 'onto', 'screen', 'un', 'professional', 'fashion', 'seconds', 'first', 'shot', 'dream', 'immediately', 'nose', 'gradually', 'smith', 'battle', 'place', 'loses', 'reaches', 'minute', 'chase', 'worthy', 'rave', 'absolutely', 'pathetic', 'excuse', 'porn', 'bullet', 'aspect', 'interesting', 'basically', 'series', 'stylish', 'prevent', 'empty', 'works', 'franchise', 'quickly', 'wars', 'saga', 'poor', 'neo', 'room', 'impact', 'academy', 'award', 'reduced', 'dialogue', 'carrie', 'ann', 'done', 'actress', 'thrown', 'together', 'disappointment', 'unlikely', 'die', 'sub', 'genre', 'effect', 'report', 'imdb', 'low', 'budget', 'worth', 'ultimately', 'taken', 'seriously', 'left', 'door', 'open', 'minded', 'seeing', 'day', 'videos', 'store', 'mall', 'across', 'return', 'earlier', 'happy', 'bucks', 'known', 'ha', 'laugh', 'footage', 'yeah', 'start', 'decisions', 'total', 'bore', 'next', 'scary', 'happening', 'stiff', 'likely', 'friends', 'whatsoever', 'probably', 'direction', 'plain', 'awful', 'tries', 'camera', 'move', 'dull', 'hear', 'parts', 'ties', 'events', 'depicted', 'beginning', 'take', 'mention', 'happened', 'new', 'ashamed', 'thing', 'sucked', 'supposed', 'damn', 'doubt', 'forget', 'handled', 'idea', 'among', 'indian', 'spell', 'appeal', 'pop', 'culture', 'extras', 'songs', 'cinematography', 'speaks', 'excellent', 'skills', 'scope', 'gone', 'days', 'paid', 'poignant', 'emotional', 'intensity', 'instance', 'refuses', 'yes', 'marriage', 'bond', 'hill', 'kumar', 'follows', 'strong', 'wind', 'blew', 'legs', 'shall', 'remembered', 'golden', 'history', 'record', 'setting', 'manage', 'lady', 'fighting', 'early', 'understand', 'loss', 'feel', 'johnson', 'felt', 'trapped', 'perspective', 'wonderful', 'pulls', 'tears', 'oscars', 'fine', 'jerry', 'green', 'fiction', 'today', 'standards', 'flawed', 'dated', 'touch', 'premise', 'typical', 'unsettling', 'quality', 'contemporary', 'flicks', 'personally', 'consider', 'york', 'depressing', 'alive', 'population', 'available', 'company', 'heston', 'shape', 'murder', 'upon', 'dark', 'secrets', 'sentimental', 'climax', 'come', 'surprise', 'atmosphere', 'tense', 'easily', 'edward', 'last', 'joseph', 'dr', 'inevitable', 'humanity', 'fancy', 'space', 'ships', 'monsters', 'sexually', 'frustrated', 'individual', 'moral', 'attitude', 'sexuality', 'problem', 'dancers', 'sex', 'believes', 'lose', 'innocence', 'beauty', 'hills', 'couples', 'distance', 'shooting', 'primary', 'existence', 'sexual', 'happily', 'male', 'pleased', 'treated', 'ladies', 'awfully', 'clothes', 'serve', 'major', 'fair', 'deal', 'factor', 'eyes', 'pulling', 'atmospheric', 'soundtrack', 'trash', 'enjoy', 'degree', 'includes', 'lesbian', 'react', 'unfolds', 'pace', 'amusing', 'ironic', 'twisted', 'else', 'definitely', 'viewers', 'go', 'luck', 'military', 'loosely', 'poem', 'three', 'india', 'cary', 'grant', 'knock', 'blows', 'six', 'native', 'water', 'din', 'sam', 'cult', 'murderous', 'indians', 'called', 'oscar', 'winner', 'mclaglen', 'douglas', 'jr', 'dawn', 'trio', 'drinking', 'loving', 'whose', 'marry', 'joan', 'tea', 'business', 'steps', 'cannot', 'stevens', 'adventure', 'grand', 'style', 'heroes', 'received', 'nomination', 'outstanding', 'hours', 'seemed', 'steve', 'constructed', 'wait', 'ball', 'recently', 'dog', 'mostly', 'lame', 'fx', 'credibility', 'wow', 'amazing', 'ken', 'russell', 'quirky', 'artistic', 'presented', 'wacky', 'emperor', 'career', 'position', 'leading', 'empire', 'maria', 'tremendous', 'christians', 'vengeance', 'everywhere', 'turn', 'son', 'monster', 'name', 'paul', 'frightening', 'shark', 'sharp', 'teeth', 'ability', 'dry', 'land', 'rock', 'sit', 'laughing', 'load', 'entire', 'silly', 'campy', 'contrived', 'spend', 'wandering', 'along', 'island', 'sudden', 'walking', 'forest', 'feet', 'allows', 'kill', 'channel', 'live', 'silver', 'otherwise', 'disappointing', 'biggest', 'settings', 'expectations', 'slasher', 'urge', 'claim', 'stinks', 'killer', 'motivations', 'possible', 'makers', 'garbage', 'create', 'tiny', 'tension', 'carpenter', 'guess', 'easier', 'enjoyable', 'soul', 'survivors', 'crap', 'junk', 'debut', 'dies', 'min', 'second', 'person', 'victim', 'directly', 'nobody', 'seems', 'afterwards', 'cares', 'deserve', 'term', 'uninteresting', 'hoping', 'quick', 'painful', 'death', 'humble', 'intrigued', 'synopsis', 'gay', 'necessarily', 'sign', 'purchased', 'arthur', 'knowing', 'purchase', 'connection', 'concerned', 'blatant', 'rip', 'state', 'authority', 'sat', 'period', 'collection', 'comfortable', 'interest', 'pleasant', 'normal', 'examples', 'titles', 'stumbled', 'accidentally', 'box', 'conflict', 'lovers', 'christian', 'subjects', 'sight', 'unseen', 'previously', 'compared', 'viewed', 'wrong', 'plenty', 'begin', 'sympathetic', 'asked', 'church', 'member', 'priest', 'mob', 'execution', 'save', 'souls', 'writing', 'points', 'reflect', 'logic', 'follow', 'acceptable', 'wing', 'sides', 'difficult', 'anybody', 'hired', 'characters', 'stereotypes', 'boot', 'neither', 'sexy', 'forever', 'advantage', 'understanding', 'serves', 'aware', 'embarrassment', 'warn', 'possibly', 'soon', 'robbery', 'price', 'cheated', 'connected', 'drivel', 'reviews', 'user', 'numerous', 'praise', 'writer', 'actor', 'reviewer', 'ed', 'wood', 'wannabe', 'sad', 'desperate', 'wish', 'allow', 'zero', 'deserved', 'anyone', 'rubbish', 'contain', 'children', 'nude', 'cinematic', 'view', 'dire', 'art', 'stick', 'countryside', 'explanation', 'spoilers', 'proper', 'english', 'overly', 'builds', 'richard', 'burton', 'display', 'passion', 'simon', 'crude', 'control', 'celebrity', 'journalist', 'brought', 'magazine', 'winning', 'ways', 'sorts', 'comedy', 'co', 'grown', 'danny', 'jeff', 'primarily', 'behavior', 'frequent', 'evening', 'sitting', 'witty', 'cynical', 'depressed', 'middle', 'heavily', 'narration', 'philosophical', 'humorous', 'describe', 'intellectual', 'charles', 'intended', 'bleak', 'analysis', 'relations', 'achievement', 'ask', 'rare', 'equally', 'eva', 'married', 'older', 'realizes', 'husband', 'returning', 'farm', 'leaving', 'afternoon', 'lake', 'horse', 'escapes', 'worker', 'gives', 'fall', 'misses', 'fortune', 'ending', 'affair', 'tragic', 'relative', 'horrible', 'vhs', 'brazil', 'network', 'therefore', 'images', 'achieved', 'viewer', 'chance', 'rental', 'practically', 'silent', 'lines', 'developed', 'daring', 'beautiful', 'fat', 'present', 'poetic', 'lover', 'show', 'non', 'unusual', 'restored', 'vote', 'eight', 'joke', 'response', 'commit', 'gerard', 'iron', 'mask', 'office', 'th', 'saying', 'satire', 'becomes', 'butt', 'miserable', 'disgusting', 'worthwhile', 'spoiler', 'alert', 'job', 'maker', 'benefit', 'assume', 'guessing', 'pretentious', 'ass', 'incompetent', 'weird', 'purpose', 'faced', 'involved', 'knew', 'adams', 'reputation', 'eye', 'candy', 'sky', 'captain', 'game', 'performers', 'visuals', 'thirty', 'walk', 'kept', 'growing', 'five', 'yet', 'main', 'law', 'paltrow', 'thinking', 'staying', 'mother', 'decision', 'soap', 'progresses', 'directing', 'suffer', 'greatly', 'phantom', 'menace', 'paying', 'release', 'explaining', 'ruined', 'develop', 'revealed', 'slowly', 'sensitive', 'tried', 'happen', 'highly', 'confess', 'mom', 'light', 'dumb', 'thoroughly', 'essentially', 'chris', 'maintain', 'eventually', 'laughs', 'outrageous', 'spirited', 'jobs', 'imitation', 'simple', 'plan', 'jake', 'accident', 'kenneth', 'branagh', 'stealing', 'carter', 'chemistry', 'emma', 'thompson', 'seeking', 'female', 'long', 'portraying', 'pull', 'pain', 'believable', 'current', 'roles', 'fell', 'cable', 'late', 'night', 'trust', 'sleep', 'legendary', 'filmmaker', 'persona', 'frankly', 'draw', 'bumbling', 'loser', 'josh', 'insult', 'mentioning', 'spot', 'breath', 'celluloid', 'pulled', 'cruel', 'result', 'audiences', 'world', 'indeed', 'sake', 'severe', 'offered', 'duty', 'mail', 'letters', 'boss', 'unable', 'perform', 'task', 'reaction', 'passing', 'passed', 'self', 'features', 'facial', 'expressions', 'cringe', 'oh', 'mistake', 'screenplay', 'suspect', 'means', 'presence', 'frustration', 'intelligence', 'charisma', 'charm', 'casting', 'blank', 'boredom', 'appearance', 'helen', 'ex', 'secretary', 'driven', 'insane', 'phone', 'calls', 'basement', 'holding', 'checking', 'ancient', 'japanese', 'poetry', 'fooled', 'sounding', 'handful', 'bette', 'davis', 'turned', 'delightful', 'expect', 'formulaic', 'surprisingly', 'helps', 'carried', 'helped', 'mainly', 'involves', 'clever', 'perfectly', 'hour', 'needless', 'development', 'fast', 'paced', 'watchable', 'romantic', 'deserves', 'nicholson', 'shallow', 'power', 'turner', 'notion', 'accept', 'falls', 'absurd', 'strike', 'hype', 'castle', 'eerie', 'wonderfully', 'creepy', 'gothic', 'alan', 'foster', 'interview', 'edgar', 'abandoned', 'mansion', 'thomas', 'scared', 'hell', 'unbearable', 'barbara', 'sinister', 'sue', 'somehow', 'prove', 'keeping', 'shut', 'anti', 'lifestyle', 'clich', 'hated', 'afraid', 'bomb', 'improved', 'lighting', 'writers', 'apparently', 'dollar', 'stronger', 'super', 'advanced', 'invisible', 'million', 'cost', 'cant', 'fly', 'east', 'random', 'attempt', 'guys', 'randomly', 'skip', 'rank', 'plane', 'loved', 'episode', 'getting', 'effectively', 'columbo', 'unpredictable', 'resolution', 'conclusion', 'murderer', 'falk', 'ruth', 'gordon', 'priceless', 'tongue', 'cheek', 'detective', 'fame', 'crime', 'massive', 'americans', 'hang', 'farce', 'already', 'errors', 'translation', 'entirely', 'cheap', 'themes', 'inspiring', 'deals', 'dare', 'figures', 'overcome', 'possibilities', 'teen', 'generous', 'terrible', 'sympathy', 'waiting', 'secondly', 'relation', 'somebody', 'please', 'explain', 'boy', 'screaming', 'jackie', 'chan', 'moves', 'virus', 'angry', 'hunting', 'confusion', 'utter', 'disbelief', 'literally', 'loud', 'cabin', 'fever', 'brains', 'grow', 'alternative', 'okay', 'sorry', 'anymore', 'popular', 'lives', 'living', 'pick', 'marty', 'fatal', 'reunion', 'ones', 'disappointed', 'critical', 'tour', 'de', 'force', 'france', 'indie', 'meets', 'jamie', 'stunning', 'beach', 'aunt', 'lengthy', 'flash', 'bits', 'pieces', 'forward', 'movement', 'able', 'heart', 'uplifting', 'ranks', 'hit', 'festival', 'austin', 'elizabeth', 'inside', 'scottish', 'producing', 'curse', 'treatment', 'suggest', 'gem', 'class', 'satisfying', 'transfer', 'decide', 'treat', 'material', 'theatrical', 'occasional', 'whereas', 'remind', 'stage', 'via', 'shaw', 'handle', 'diana', 'daughter', 'rachel', 'sadly', 'magic', 'wife', 'evidence', 'ratings', 'mars', 'supposedly', 'aired', 'twice', 'lowest', 'rated', 'nonsense', 'reality', 'unrealistic', 'compelled', 'memory', 'continued', 'commercial', 'failure', 'crappy', 'advise', 'catch', 'ward', 'weakest', 'formula', 'hero', 'encounters', 'flashbacks', 'met', 'sword', 'nick', 'wolf', 'storyline', 'types', 'canadian', 'paris', 'laughed', 'recognition', 'reasons', 'sets', 'tone', 'appealing', 'ritter', 'fellow', 'pot', 'eccentric', 'novak', 'producer', 'rich', 'dorothy', 'murdered', 'essential', 'viewing', 'beautifully', 'noir', 'shadows', 'spoil', 'presentation', 'tragedy', 'issue', 'torn', 'edge', 'ran', 'gorgeous', 'ah', 'younger', 'spooky', 'flaw', 'chinese', 'hong', 'kong', 'infamous', 'cat', 'disappeared', 'judge', 'lawyer', 'threatening', 'within', 'given', 'cops', 'police', 'officers', 'killed', 'race', 'stops', 'proves', 'track', 'hide', 'raped', 'saves', 'incident', 'exceptionally', 'breathtaking', 'incredible', 'unbelievable', 'fitting', 'brutal', 'eat', 'including', 'recommended', 'stories', 'four', 'involve', 'investigate', 'segment', 'starred', 'block', 'scenery', 'tale', 'serial', 'amazingly', 'fictional', 'psychotic', 'losing', 'might', 'died', 'ago', 'horrors', 'museum', 'sees', 'figure', 'reminds', 'fascinated', 'visits', 'lee', 'harsh', 'idiot', 'ended', 'meant', 'parody', 'jon', 'doctor', 'dracula', 'according', 'fit', 'props', 'vampire', 'natural', 'vampires', 'recent', 'bela', 'lugosi', 'considering', 'charming', 'nowhere', 'cats', 'admit', 'spite', 'overall', 'basis', 'greed', 'pride', 'lust', 'anger', 'failing', 'telling', 'supernatural', 'specific', 'nicely', 'supported', 'makeup', 'suitable', 'alice', 'brady', 'manages', 'twists', 'fan', 'rented', 'genres', 'romance', 'western', 'expecting', 'pure', 'child', 'fonda', 'resist', 'attraction', 'drive', 'teenager', 'metal', 'trick', 'rocks', 'gene', 'simmons', 'kiss', 'thats', 'use', 'eddie', 'player', 'possessed', 'funniest', 'jealous', 'hey', 'whats', 'wearing', 'ignored', 'exact', 'station', 'chasing', 'buffs', 'noted', 'weekend', 'warning', 'utterly', 'spoof', 'list', 'cartoon', 'familiar', 'plus', 'superman', 'various', 'actresses', 'producers', 'careers', 'fashioned', 'feels', 'gift', 'sally', 'field', 'awards', 'introduce', 'sun', 'fears', 'contrary', 'wins', 'genuine', 'thrill', 'absence', 'instantly', 'hands', 'constantly', 'paranoia', 'taste', 'baker', 'specifically', 'whoopi', 'goldberg', 'head', 'support', 'offers', 'write', 'months', 'maggie', 'went', 'doubts', 'moved', 'la', 'aforementioned', 'roll', 'pleasure', 'hidden', 'include', 'marshall', 'command', 'says', 'likes', 'fisher', 'anderson', 'kevin', 'dinner', 'downey', 'presents', 'logical', 'washington', 'bridge', 'longer', 'shake', 'rid', 'promised', 'hold', 'promise', 'florida', 'willie', 'front', 'eating', 'amongst', 'hilarious', 'suit', 'forced', 'broken', 'dating', 'craven', 'ensemble', 'montana', 'rise', 'plots', 'succeed', 'settle', 'lovable', 'reads', 'glasses', 'stomach', 'free', 'demand', 'deliver', 'crafted', 'humor', 'value', 'source', 'weak', 'pay', 'pants', 'masks', 'told', 'china', 'meet', 'wang', 'elderly', 'street', 'performer', 'talents', 'magical', 'capture', 'awe', 'witness', 'join', 'learn', 'tradition', 'pass', 'learning', 'advice', 'legacy', 'teach', 'discovers', 'dying', 'international', 'help', 'worry', 'sloppy', 'cowboy', 'ride', 'bar', 'shoot', 'clean', 'solid', 'honestly', 'awesome', 'concept', 'inspired', 'killings', 'killers', 'realism', 'shaky', 'approach', 'band', 'flaws', 'universal', 'alcohol', 'competition', 'sink', 'site', 'glory', 'warned', 'drink', 'coffee', 'failed', 'entertain', 'intentionally', 'profound', 'literature', 'trouble', 'obnoxious', 'till', 'commentary', 'myers', 'runs', 'beaten', 'femme', 'guns', 'ninja', 'suffers', 'nuclear', 'martial', 'arts', 'earned', 'cash', 'singing', 'tank', 'answers', 'questions', 'mission', 'section', 'ho', 'hardcore', 'wit', 'reaching', 'length', 'jokes', 'realize', 'santa', 'claus', 'gag', 'needed', 'students', 'nearly', 'huge', 'north', 'francis', 'driver', 'creativity', 'classes', 'code', 'bed', 'asian', 'gang', 'fairly', 'humour', 'beneath', 'surface', 'africa', 'student', 'likable', 'villain', 'admire', 'veteran', 'ham', 'wretched', 'beer', 'stop', 'throw', 'places', 'suggests', 'pictures', 'hurts', 'remains', 'embarrassed', 'march', 'brings', 'starring', 'andrew', 'genius', 'tend', 'capable', 'lovely', 'disappoint', 'adult', 'aside', 'technical', 'nelson', 'musical', 'abilities', 'surreal', 'costumes', 'add', 'highlight', 'owen', 'anne', 'extended', 'hoffman', 'spectacular', 'thumbs', 'ruin', 'ego', 'elvira', 'mistress', 'heroine', 'raise', 'vegas', 'decides', 'hopes', 'mixed', 'reactions', 'teens', 'community', 'uncle', 'vincent', 'morgan', 'heads', 'edie', 'perfect', 'disney', 'devil', 'glenn', 'prison', 'obsession', 'cure', 'levels', 'starting', 'designed', 'suck', 'marketing', 'machine', 'endless', 'cake', 'speaking', 'factory', 'restaurant', 'building', 'dogs', 'gags', 'villains', 'ad', 'humans', 'wasted', 'cuts', 'forth', 'charlie', 'shots', 'pushing', 'annoying', 'nominated', 'dreck', 'talent', 'tie', 'bring', 'page', 'wide', 'meat', 'plant', 'twenty', 'cutting', 'rarely', 'rings', 'louis', 'masses', 'sticks', 'unique', 'mix', 'mature', 'adults', 'alike', 'enthusiasm', 'cgi', 'image', 'holes', 'birds', 'finish', 'added', 'liners', 'smart', 'smile', 'cry', 'fallen', 'punk', 'link', 'extra', 'jazz', 'contains', 'chorus', 'favourite', 'instant', 'surfing', 'caught', 'horribly', 'joy', 'atrocious', 'inane', 'epic', 'ordinary', 'choose', 'news', 'bears', 'training', 'hotel', 'check', 'toilet', 'routine', 'plague', 'reviewers', 'disliked', 'crazy', 'content', 'mere', 'refreshing', 'spring', 'viewings', 'masterful', 'splendid', 'traditional', 'format', 'deeply', 'revenge', 'importance', 'core', 'tim', 'direct', 'reveals', 'chilling', 'endings', 'scott', 'witnessed', 'detail', 'creative', 'arrives', 'desired', 'importantly', 'creators', 'em', 'turkey', 'ages', 'recall', 'investigation', 'card', 'extreme', 'implausible', 'rain', 'crash', 'costs', 'upset', 'apart', 'illogical', 'behave', 'represents', 'amount', 'scenario', 'destroy', 'selfish', 'unfortunate', 'decade', 'west', 'capturing', 'gotten', 'mundane', 'creating', 'whenever', 'flat', 'deaths', 'hits', 'intelligent', 'forms', 'category', 'brand', 'brain', 'closest', 'suffering', 'drives', 'members', 'strange', 'wishing', 'blind', 'deaf', 'word', 'finished', 'lifetime', 'episodes', 'abc', 'city', 'todd', 'jay', 'season', 'website', 'sci', 'fi', 'stock', 'angle', 'greater', 'fail', 'safe', 'unintentional', 'particularly', 'involving', 'juvenile', 'glover', 'nyc', 'fabulous', 'rage', 'games', 'accomplished', 'replaced', 'eyed', 'annoyed', 'lack', 'racial', 'meaning', 'identity', 'apparent', 'relatively', 'harm', 'performs', 'illegal', 'minor', 'subplot', 'stretch', 'reasonable', 'limits', 'thriller', 'critic', 'scare', 'besides', 'uk', 'edition', 'kitchen', 'bedroom', 'afford', 'system', 'exists', 'receive', 'spending', 'hundreds', 'thousands', 'dollars', 'build', 'borrowed', 'returned', 'enormous', 'houses', 'hello', 'lou', 'prom', 'hamilton', 'lisa', 'cheating', 'date', 'bud', 'cooper', 'lewis', 'queen', 'throws', 'lit', 'catches', 'dress', 'teenage', 'craig', 'justin', 'wendy', 'planning', 'opens', 'intent', 'spare', 'suicide', 'draws', 'fix', 'party', 'bruce', 'ron', 'oliver', 'suppose', 'mark', 'picks', 'kills', 'ready', 'count', 'graphic', 'shower', 'resulting', 'side', 'zombie', 'drag', 'normally', 'values', 'properly', 'emotionally', 'host', 'anyways', 'striking', 'peace', 'adventures', 'halloween', 'mood', 'complexity', 'cliche', 'locations', 'gritty', 'hbo', 'relationships', 'treats', 'notable', 'dawson', 'forgot', 'weeks', 'moore', 'portrays', 'kick', 'fianc', 'conversation', 'butler', 'susan', 'library', 'directs', 'inferior', 'albert', 'matthau', 'hook', 'ryan', 'robbins', 'scientist', 'cute', 'corny', 'situations', 'terrific', 'rescue', 'lackluster', 'learned', 'rules', 'countless', 'ahead', 'irony', 'described', 'kung', 'fu', 'proud', 'figured', 'howard', 'guarantee', 'choice', 'notice', 'cousin', 'rap', 'killing', 'zombies', 'gruesome', 'asks', 'bare', 'helicopter', 'boom', 'drop', 'romero', 'mid', 'channels', 'bizarre', 'fascinating', 'discovered', 'blown', 'girlfriend', 'impressed', 'affected', 'dynamic', 'movements', 'immediate', 'strength', 'wedding', 'dennis', 'clown', 'displayed', 'delivery', 'hiding', 'lying', 'square', 'energy', 'hip', 'imagination', 'parties', 'expensive', 'conventional', 'thank', 'awhile', 'bright', 'colors', 'dreadful', 'initially', 'accents', 'fake', 'surely', 'team', 'attempts', 'surprised', 'lasted', 'willis', 'type', 'revolution', 'continue', 'step', 'talking', 'topic', 'exactly', 'hoped', 'discussion', 'criticism', 'suggested', 'summary', 'produce', 'arnold', 'country', 'industry', 'artist', 'society', 'disturbed', 'cars', 'cave', 'standing', 'corner', 'countries', 'ugly', 'persons', 'riding', 'destroying', 'folk', 'built', 'talked', 'redeeming', 'moon', 'obsessed', 'pitt', 'terrifying', 'touches', 'al', 'global', 'warming', 'lie', 'lies', 'tree', 'survived', 'surviving', 'bugs', 'skin', 'copy', 'com', 'curious', 'thanks', 'advance', 'whale', 'harris', 'accepted', 'hitting', 'wanting', 'wondering', 'wake', 'spiritual', 'perry', 'prepared', 'confusing', 'merit', 'horrific', 'attempted', 'ms', 'miracle', 'carries', 'weight', 'subplots', 'created', 'travel', 'knows', 'beat', 'traveling', 'surprises', 'confused', 'neighborhood', 'books', 'heck', 'crowd', 'watches', 'terror', 'proceeds', 'grabs', 'throat', 'stopped', 'tune', 'explained', 'van', 'lets', 'possibility', 'craft', 'competent', 'ear', 'target', 'courage', 'loyalty', 'sold', 'appreciate', 'pearl', 'exotic', 'shows', 'act', 'shy', 'inner', 'convey', 'sweet', 'dedicated', 'age', 'partly', 'acted', 'dancing', 'topless', 'knife', 'tied', 'chest', 'requires', 'liberal', 'seat', 'began', 'limited', 'comedies', 'cross', 'dressed', 'bobby', 'arrested', 'wrapped', 'peoples', 'language', 'fulci', 'blame', 'carry', 'thin', 'skill', 'boat', 'funnier', 'nightmare', 'gas', 'stolen', 'base', 'thief', 'steal', 'corpse', 'burn', 'flies', 'appalling', 'engage', 'charge', 'horrifying', 'punch', 'emphasis', 'resemble', 'pregnant', 'push', 'flesh', 'faces', 'bag', 'flying', 'stand', 'radio', 'print', 'destroyed', 'seven', 'italy', 'research', 'cold', 'aimed', 'lacking', 'authentic', 'empathy', 'involvement', 'beloved', 'caused', 'guilt', 'positive', 'thus', 'helping', 'saved', 'initial', 'creation', 'bible', 'disease', 'physically', 'condition', 'explore', 'born', 'inability', 'differences', 'united', 'states', 'legal', 'status', 'liking', 'hearts', 'japan', 'thinks', 'picked', 'reminded', 'singer', 'opinions', 'convinced', 'tech', 'changed', 'bother', 'comments', 'intriguing', 'ghost', 'complaint', 'pacing', 'awkward', 'showdown', 'heaven', 'williams', 'generic', 'win', 'coming', 'fresh', 'slight', 'respect', 'portrayal', 'lived', 'red', 'hood', 'sutherland', 'bat', 'effective', 'hanging', 'forty', 'downright', 'consists', 'arms', 'managed', 'vacation', 'convince', 'covered', 'psychological', 'study', 'fifteen', 'missed', 'opportunity', 'forgettable', 'cuba', 'details', 'spent', 'property', 'relate', 'tells', 'mistakes', 'jane', 'powell', 'sopranos', 'semi', 'daughters', 'qualities', 'tender', 'projects', 'prior', 'ease', 'displays', 'developing', 'experienced', 'rooney', 'extraordinary', 'immensely', 'remarkable', 'glorious', 'lily', 'influenced', 'ray', 'triumph', 'charismatic', 'gifted', 'trailer', 'julia', 'elegant', 'jim', 'bride', 'cleverly', 'program', 'blair', 'jason', 'everybody', 'vietnam', 'discover', 'massacre', 'split', 'promising', 'cut', 'crush', 'folks', 'shown', 'packed', 'fighter', 'pilot', 'window', 'scores', 'madness', 'heroic', 'confrontation', 'speech', 'rebel', 'leader', 'brown', 'tear', 'grew', 'scooby', 'doo', 'cartoons', 'pan', 'animation', 'missing', 'unoriginal', 'cox', 'baby', 'inevitably', 'certainly', 'meeting', 'plausible', 'goodness', 'currently', 'air', 'da', 'birth', 'widow', 'accurate', 'actions', 'speak', 'political', 'jimmy', 'unlike', 'integrity', 'walks', 'warm', 'travels', 'jet', 'heat', 'swimming', 'smaller', 'saving', 'pity', 'abysmal', 'paint', 'tedious', 'hopefully', 'color', 'adaptations', 'stands', 'versions', 'reed', 'fits', 'mental', 'delivered', 'halfway', 'holy', 'tape', 'worn', 'audio', 'hooked', 'attractive', 'excessive', 'rolling', 'propaganda', 'similar', 'sunday', 'paper', 'visual', 'master', 'navy', 'neil', 'statement', 'rights', 'desert', 'irritating', 'technique', 'latest', 'significant', 'classics', 'blade', 'louise', 'alien', 'domestic', 'muslim', 'efforts', 'share', 'court', 'president', 'subsequent', 'cases', 'repeated', 'concerns', 'wives', 'divorce', 'terms', 'granted', 'justice', 'dealt', 'subtitles', 'causes', 'amazed', 'prize', 'stereotype', 'chief', 'rush', 'partner', 'officer', 'solve', 'market', 'memories', 'internet', 'month', 'caliber', 'existed', 'hollow', 'bullets', 'damage', 'landing', 'pressure', 'nuts', 'gotta', 'vision', 'enemy', 'par', 'model', 'strongly', 'reminiscent', 'german', 'design', 'william', 'cameron', 'ruins', 'st', 'compelling', 'contrast', 'laughably', 'technology', 'raymond', 'magnificent', 'ideal', 'progress', 'expressed', 'relevant', 'sir', 'edited', 'futuristic', 'workers', 'machines', 'independent', 'gentleman', 'nonetheless', 'worked', 'media', 'dad', 'nostalgic', 'decades', 'depicts', 'elsewhere', 'provide', 'stretched', 'considerable', 'jeremy', 'london', 'dropping', 'ignore', 'danger', 'aging', 'bodies', 'lane', 'reporter', 'haunted', 'guest', 'assistant', 'aim', 'anime', 'animated', 'sports', 'mankind', 'encounter', 'combat', 'confidence', 'chosen', 'coach', 'personal', 'survivor', 'russian', 'assigned', 'belong', 'childhood', 'solely', 'upper', 'civil', 'sent', 'became', 'parent', 'vast', 'lower', 'scale', 'earl', 'former', 'wilson', 'mild', 'event', 'reached', 'victory', 'fate', 'undoubtedly', 'succeeded', 'comparing', 'britain', 'corrupt', 'forgotten', 'trilogy', 'buck', 'successfully', 'mirror', 'karen', 'travesty', 'suspense', 'sequels', 'similarly', 'search', 'captured', 'pleasantly', 'graham', 'masterpieces', 'lesser', 'bacall', 'respectively', 'spanish', 'favor', 'ridden', 'marvelous', 'mixture', 'answer', 'murders', 'drawn', 'wrote', 'amitabh', 'bitter', 'pair', 'captivating', 'extent', 'test', 'emily', 'sisters', 'territory', 'focus', 'worried', 'commented', 'pulp', 'et', 'horses', 'ring', 'government', 'experiments', 'godfather', 'substance', 'terrorists', 'personality', 'guts', 'jack', 'existent', 'closer', 'sucks', 'passes', 'impress', 'nail', 'variety', 'dreams', 'romp', 'choices', 'regardless', 'personalities', 'ingredients', 'balance', 'stinker', 'dragon', 'disjointed', 'spoken', 'continuity', 'hung', 'stunt', 'swear', 'cage', 'horrid', 'frank', 'stallone', 'leaves', 'christ', 'quote', 'changing', 'correct', 'truth', 'vice', 'legend', 'fishing', 'vicious', 'bay', 'brothers', 'sitcom', 'dana', 'storm', 'bear', 'gentle', 'drawing', 'thankfully', 'sappy', 'adorable', 'offer', 'civilization', 'johnny', 'tony', 'train', 'iii', 'mafia', 'chain', 'retired', 'trap', 'accompanied', 'pursuit', 'broke', 'jail', 'proceedings', 'fully', 'generated', 'appeared', 'troubled', 'dignity', 'attempting', 'rape', 'fool', 'protagonists', 'demise', 'sacrifice', 'sheriff', 'mexican', 'larry', 'interaction', 'mouse', 'manhattan', 'exploration', 'indulgent', 'busy', 'bollywood', 'outside', 'risk', 'cinematographer', 'burning', 'dimension', 'willing', 'eager', 'hence', 'satisfied', 'rising', 'grave', 'steel', 'entry', 'darkness', 'leo', 'suspicious', 'reasonably', 'holmes', 'produced', 'moody', 'fails', 'fantasy', 'impossible', 'ian', 'hunter', 'agreed', 'banned', 'cities', 'crawford', 'oddly', 'destiny', 'whoever', 'foot', 'classical', 'teaching', 'theory', 'professor', 'angela', 'holly', 'notes', 'shocking', 'sings', 'painfully', 'sounded', 'suspend', 'feminist', 'assault', 'uncomfortable', 'engaging', 'associated', 'cannibal', 'financial', 'poorly', 'occurs', 'notorious', 'warrior', 'flair', 'pushed', 'express', 'championship', 'ted', 'slave', 'shock', 'raw', 'tag', 'matches', 'vs', 'putting', 'proved', 'difference', 'throwing', 'hart', 'passable', 'jumped', 'refused', 'board', 'manipulative', 'issues', 'context', 'hat', 'health', 'realise', 'considered', 'thrillers', 'dutch', 'verhoeven', 'basic', 'instinct', 'author', 'mysterious', 'husbands', 'circumstances', 'psycho', 'alfred', 'hitchcock', 'orson', 'gripping', 'mentally', 'occasion', 'luckily', 'hysterical', 'timing', 'notch', 'southern', 'unreal', 'scripts', 'guessed', 'bland', 'screams', 'millions', 'satan', 'blah', 'concern', 'college', 'kate', 'daniel', 'cardboard', 'forbidden', 'unintentionally', 'hanks', 'awake', 'whilst', 'included', 'buddies', 'consequences', 'carrying', 'spoiled', 'prostitute', 'likewise', 'sole', 'waitress', 'national', 'department', 'unknown', 'map', 'virtually', 'opportunities', 'foreign', 'nine', 'soviet', 'union', 'iran', 'vehicle', 'naive', 'blonde', 'wears', 'revealing', 'costume', 'bunny', 'unfunny', 'blue', 'mini', 'wisdom', 'citizen', 'nights', 'admittedly', 'patient', 'hospital', 'university', 'quotes', 'splatter', 'brief', 'thousand', 'documentaries', 'frame', 'artists', 'controversial', 'conservative', 'segments', 'soldier', 'spirits', 'mexico', 'vivid', 'uneven', 'shines', 'comical', 'stunts', 'choreography', 'mess', 'thugs', 'ruthless', 'warriors', 'rocky', 'wes', 'scream', 'lincoln', 'combined', 'placed', 'asleep', 'loaded', 'selling', 'respected', 'matt', 'faster', 'martin', 'ford', 'generations', 'lynch', 'strangers', 'caring', 'sissy', 'rose', 'con', 'sidekick', 'friendship', 'survival', 'landscape', 'explored', 'leave', 'sunshine', 'losers', 'barry', 'haunting', 'midnight', 'desperation', 'tough', 'aspects', 'remarks', 'shining', 'web', 'alas', 'education', 'finest', 'trees', 'merely', 'held', 'holds', 'shame', 'shocked', 'account', 'abuse', 'pg', 'briefly', 'voight', 'texas', 'roy', 'rogers', 'outfit', 'kinds', 'homeless', 'apartment', 'sends', 'excited', 'defense', 'wayne', 'gonna', 'nd', 'influence', 'flashback', 'interpretation', 'kicking', 'innovative', 'unit', 'football', 'loves', 'cook', 'secretly', 'descent', 'attitudes', 'driving', 'agrees', 'discuss', 'phony', 'generation', 'arm', 'separate', 'bands', 'rubber', 'attached', 'useful', 'experiment', 'switch', 'prince', 'melodrama', 'pitch', 'focuses', 'san', 'francisco', 'grandmother', 'families', 'credible', 'alcoholic', 'recognize', 'wounded', 'regular', 'cameos', 'trademark', 'reel', 'common', 'ludicrous', 'neck', 'sheer', 'storytelling', 'knowledge', 'argue', 'ruby', 'breaks', 'styles', 'dressing', 'gabriel', 'blowing', 'dancer', 'adding', 'blues', 'amanda', 'lena', 'drunk', 'leg', 'tall', 'handsome', 'highlights', 'jaw', 'tap', 'frequently', 'bold', 'signs', 'glimpse', 'waters', 'rex', 'cinderella', 'enjoyment', 'introduction', 'executed', 'colour', 'austen', 'darker', 'happiness', 'achieve', 'suffered', 'transition', 'thoughtful', 'prefer', 'roman', 'troops', 'korean', 'jump', 'warner', 'appearances', 'develops', 'delivering', 'airplane', 'childish', 'distinct', 'numbers', 'cagney', 'causing', 'adequate', 'strictly', 'gold', 'dimensional', 'exist', 'incomprehensible', 'multiple', 'equal', 'expression', 'grasp', 'nation', 'snake', 'dean', 'stewart', 'leslie', 'boyfriend', 'mildred', 'interviews', 'wwii', 'greatness', 'bringing', 'depth', 'characterization', 'measure', 'anna', 'nicole', 'struck', 'goal', 'arrived', 'led', 'dust', 'shelf', 'yesterday', 'bored', 'cards', 'clothing', 'photo', 'menacing', 'views', 'information', 'process', 'mass', 'amounts', 'shed', 'evident', 'hints', 'honesty', 'ridiculously', 'hammer', 'burns', 'conditions', 'definite', 'nervous', 'disagree', 'amy', 'noticed', 'shoes', 'skull', 'joined', 'steals', 'beats', 'size', 'complicated', 'marks', 'hardy', 'committed', 'responsible', 'marion', 'andy', 'barrymore', 'mickey', 'parker', 'margaret', 'featured', 'painted', 'guard', 'bothered', 'loose', 'nancy', 'allen', 'winds', 'omen', 'screening', 'lessons', 'timeless', 'changes', 'freedom', 'biko', 'donald', 'woods', 'higher', 'stiller', 'politically', 'kidding', 'religion', 'staged', 'duke', 'pointed', 'kurosawa', 'arguably', 'cheese', 'dramas', 'backdrop', 'fault', 'challenge', 'constant', 'demands', 'hole', 'erotic', 'streets', 'bergman', 'sits', 'silence', 'designs', 'scheme', 'freddy', 'abusive', 'exaggerated', 'combination', 'jesus', 'alright', 'wooden', 'jennifer', 'stays', 'overlooked', 'concert', 'kissing', 'sum', 'billed', 'jumps', 'devoid', 'bourne', 'chased', 'deeper', 'armed', 'mm', 'editor', 'boys', 'allowing', 'cia', 'drops', 'floor', 'threat', 'assassin', 'wonders', 'hearing', 'round', 'murphy', 'inspiration', 'stargate', 'spin', 'companion', 'device', 'understandable', 'stayed', 'luke', 'tortured', 'mon', 'woody', 'edgy', 'sixties', 'seventies', 'cd', 'bin', 'dear', 'angles', 'theaters', 'kurt', 'slaughter', 'stilted', 'polanski', 'honest', 'le', 'torture', 'elaborate', 'opposed', 'struggle', 'identify', 'pamela', 'favorites', 'providing', 'molly', 'eugene', 'stereotypical', 'henry', 'wallace', 'communist', 'newspaper', 'philip', 'tunes', 'kane', 'wrestling', 'spots', 'defend', 'taylor', 'chaos', 'fest', 'shortly', 'nearby', 'joey', 'grab', 'dud', 'kennedy', 'ashley', 'chair', 'september', 'terrorist', 'idiotic', 'protagonist', 'wear', 'doom', 'pile', 'masters', 'pro', 'describes', 'technically', 'broadway', 'musicals', 'unforgettable', 'colorful', 'mtv', 'lucy', 'coherent', 'domino', 'hunters', 'removed', 'crack', 'struggles', 'dragged', 'fbi', 'operation', 'nurse', 'seeks', 'racist', 'chases', 'crazed', 'unwatchable', 'en', 'tales', 'dreary', 'belief', 'tad', 'creates', 'roger', 'morning', 'stale', 'online', 'godzilla', 'cried', 'beliefs', 'suited', 'harder', 'african', 'mrs', 'mechanical', 'toys', 'floating', 'freak', 'doll', 'huh', 'hundred', 'california', 'correctly', 'performed', 'crimes', 'oz', 'robin', 'per', 'sandra', 'guide', 'saturday', 'showcase', 'dances', 'perfection', 'ballet', 'reynolds', 'chuck', 'explosions', 'milk', 'batman', 'mario', 'greedy', 'studios', 'simpson', 'defeat', 'relief', 'kinda', 'regret', 'gain', 'incoherent', 'fox', 'judy', 'shirley', 'temple', 'newly', 'closely', 'resembles', 'meaningful', 'description', 'dislike', 'suits', 'lawrence', 'snow', 'fairy', 'remained', 'spain', 'owner', 'photographer', 'pseudo', 'typically', 'conceived', 'camp', 'creator', 'wreck', 'distribution', 'highest', 'beings', 'appearing', 'simplicity', 'slick', 'richardson', 'meryl', 'streep', 'claire', 'danes', 'hugh', 'patrick', 'environment', 'shine', 'discovery', 'vaguely', 'popcorn', 'justify', 'depicting', 'homosexual', 'unbelievably', 'dropped', 'stone', 'struggling', 'hitler', 'spark', 'valley', 'dolls', 'pacino', 'table', 'filmmakers', 'necessary', 'fury', 'finding', 'lucky', 'gangster', 'racism', 'gangsters', 'horrendous', 'kyle', 'yard', 'royal', 'slap', 'required', 'rushed', 'cole', 'cassidy', 'enjoys', 'interested', 'contract', 'trial', 'unaware', 'kidnapped', 'monkeys', 'denzel', 'carrey', 'freeman', 'painting', 'vague', 'ross', 'stated', 'definition', 'chose', 'bull', 'oil', 'waves', 'spread', 'flawless', 'spoke', 'der', 'usa', 'nazi', 'relatives', 'berlin', 'lyrics', 'richards', 'trek', 'graphics', 'league', 'derek', 'weapons', 'searching', 'catholic', 'hal', 'hartley', 'kudos', 'ensues', 'grim', 'caine', 'visible', 'desperately', 'petty', 'blend', 'subtlety', 'rat', 'sadistic', 'cup', 'eaten', 'spike', 'panic', 'orleans', 'fill', 'official', 'widmark', 'examination', 'potentially', 'palance', 'tommy', 'determined', 'convincingly', 'ice', 'diane', 'keaton', 'receives', 'grief', 'renting', 'mel', 'brooks', 'rob', 'stole', 'trite', 'ireland', 'spends', 'wasting', 'lazy', 'drew', 'hunt', 'trade', 'devoted', 'buster', 'clint', 'nephew', 'string', 'composed', 'newman', 'digital', 'complain', 'shelley', 'eve', 'wicked', 'garden', 'matthew', 'jean', 'transformation', 'occurred', 'gray', 'bone', 'bush', 'princess', 'lion', 'ramones', 'hall', 'solution', 'kicked', 'exceptional', 'mildly', 'carefully', 'underground', 'lab', 'buff', 'educational', 'noise', 'intimate', 'homage', 'snl', 'leon', 'largely', 'dee', 'mindless', 'youth', 'rotten', 'ww', 'olivier', 'witnesses', 'sean', 'connery', 'learns', 'rival', 'cusack', 'walker', 'nathan', 'thick', 'duo', 'leonard', 'stood', 'porno', 'preston', 'buildings', 'alec', 'directorial', 'parallel', 'stellar', 'buffalo', 'abraham', 'minimum', 'surrounded', 'superhero', 'wet', 'negative', 'feed', 'titanic', 'proof', 'mummy', 'sell', 'piano', 'irish', 'christy', 'grey', 'believed', 'specially', 'brenda', 'portrait', 'foul', 'dozens', 'fortunately', 'michelle', 'sid', 'nostalgia', 'seek', 'seasons', 'bonus', 'hippie', 'experiences', 'photographed', 'offended', 'chooses', 'inventive', 'protect', 'carol', 'brave', 'fish', 'stooges', 'intentions', 'robots', 'meaningless', 'wishes', 'universe', 'novels', 'terribly', 'climactic', 'regarding', 'prisoner', 'cell', 'aid', 'ustinov', 'hopeless', 'miserably', 'morality', 'minimal', 'sin', 'attorney', 'sidney', 'lumet', 'lay', 'lol', 'sentence', 'mistaken', 'everyday', 'blunt', 'medical', 'peak', 'europe', 'realized', 'burned', 'tons', 'stan', 'ollie', 'laurel', 'overdone', 'absent', 'glass', 'hearted', 'lemmon', 'soft', 'unfair', 'donna', 'laura', 'hyde', 'exchange', 'marie', 'maid', 'portion', 'estate', 'cared', 'alternate', 'les', 'despair', 'philosophy', 'ned', 'odds', 'australia', 'wore', 'corruption', 'versus', 'established', 'closing', 'sophisticated', 'weapon', 'dixon', 'accused', 'polished', 'spock', 'kirk', 'unhappy', 'enterprise', 'executive', 'emotion', 'imagined', 'doomed', 'belongs', 'walked', 'madonna', 'precious', 'miscast', 'slice', 'tame', 'lively', 'firstly', 'stanley', 'riveting', 'germany', 'clark', 'wrap', 'prisoners', 'dave', 'aliens', 'puppet', 'similarities', 'rochester', 'suspenseful', 'lloyd', 'convoluted', 'connect', 'cameras', 'chicks', 'tracks', 'careful', 'grows', 'minds', 'contact', 'terry', 'regard', 'psychiatrist', 'airport', 'path', 'send', 'drunken', 'distracting', 'chess', 'served', 'concerning', 'del', 'crucial', 'clock', 'outcome', 'warren', 'walter', 'brando', 'facts', 'inducing', 'twins', 'threw', 'betty', 'village', 'frankenstein', 'fay', 'ocean', 'suspects', 'astonishing', 'nevertheless', 'satisfy', 'motives', 'basketball', 'monk', 'pretending', 'defined', 'shadow', 'underrated', 'virginia', 'narrator', 'neighbors', 'resources', 'tends', 'directions', 'mill', 'antics', 'larger', 'clues', 'alexander', 'neat', 'simplistic', 'westerns', 'truck', 'shop', 'alongside', 'woo', 'rises', 'enemies', 'trailers', 'lonely', 'marc', 'rats', 'matters', 'relies', 'passionate', 'melodramatic', 'destruction', 'dub', 'serving', 'shorts', 'preview', 'canada', 'bath', 'virgin', 'carell', 'curiosity', 'daily', 'catherine', 'combine', 'pie', 'offering', 'april', 'hint', 'captures', 'stress', 'lone', 'tonight', 'remarkably', 'intention', 'wilderness', 'unexpectedly', 'arrive', 'ralph', 'ghosts', 'disappear', 'fought', 'unconvincing', 'blake', 'roth', 'jessica', 'scotland', 'essence', 'mitchell', 'embarrassing', 'blond', 'swedish', 'ears', 'samurai', 'claimed', 'balls', 'invasion', 'comfort', 'christianity', 'represent', 'fetched', 'mentions', 'strip', 'interests', 'sellers', 'notably', 'taxi', 'dick', 'premiere', 'blast', 'crocodile', 'goofy', 'amused', 'wished', 'sullivan', 'calm', 'paulie', 'bird', 'hop', 'overacting', 'subjected', 'colonel', 'seagal', 'excitement', 'nowadays', 'norman', 'chances', 'pays', 'broad', 'brooklyn', 'greek', 'rd', 'method', 'vulnerable', 'focused', 'morris', 'farrell', 'bottle', 'brilliance', 'attacks', 'reader', 'ought', 'winter', 'poverty', 'sons', 'logan', 'heights', 'fuller', 'birthday', 'elvis', 'outer', 'ordered', 'picking', 'revelation', 'symbolism', 'sport', 'greg', 'brutality', 'surrounding', 'businessman', 'promises', 'plastic', 'composer', 'tomatoes', 'enjoying', 'los', 'angeles', 'checked', 'cg', 'dolph', 'overrated', 'merits', 'dentist', 'root', 'centered', 'alex', 'funeral', 'overwhelming', 'appreciation', 'prequel', 'iraq', 'exposed', 'depiction', 'remote', 'conflicts', 'chicago', 'smiling', 'delight', 'valentine', 'damon', 'criminals', 'landscapes', 'victoria', 'screenwriter', 'julian', 'practice', 'murray', 'equivalent', 'historically', 'dig', 'nazis', 'lips', 'creatures', 'albeit', 'wealthy', 'li', 'exercise', 'improve', 'downhill', 'illness', 'pit', 'flynn', 'mighty', 'rambo', 'choreographed', 'blob', 'ultra', 'conversations', 'firm', 'pops', 'fond', 'endearing', 'backgrounds', 'bite', 'lacked', 'ellen', 'letter', 'quit', 'jumping', 'arrival', 'companies', 'technicolor', 'distant', 'noble', 'touched', 'copies', 'affect', 'responsibility', 'linda', 'crying', 'kapoor', 'khan', 'honor', 'imaginative', 'jewish', 'miike', 'ambiguous', 'metaphor', 'multi', 'bargain', 'staff', 'construction', 'service', 'mgm', 'bakshi', 'taught', 'stuart', 'individuals', 'wanna', 'mile', 'loyal', 'icon', 'occur', 'aka', 'sadness', 'jesse', 'hilariously', 'forgive', 'activities', 'gross', 'stupidity', 'increasingly', 'shoots', 'installment', 'models', 'realizing', 'creep', 'finger', 'button', 'winters', 'welles', 'garbo', 'twin', 'imagery', 'attend', 'medium', 'roots', 'conspiracy', 'palace', 'jonathan', 'ticket', 'sarah', 'challenging', 'reid', 'june', 'spy', 'yellow', 'smoke', 'dalton', 'gandhi', 'twelve', 'walsh', 'tiresome', 'agents', 'seldom', 'bettie', 'pin', 'compassion', 'troubles', 'productions', 'returns', 'hatred', 'groups', 'werewolf', 'popularity', 'kubrick', 'watson', 'wealth', 'cream', 'ambitious', 'tricks', 'artificial', 'maniac', 'savage', 'ya', 'belushi', 'soccer', 'revolves', 'arrogant', 'bug', 'senses', 'annie', 'elephant', 'disc', 'scrooge', 'repetitive', 'slapstick', 'scarecrow', 'wont', 'timon', 'shirt', 'grayson', 'furious', 'staring', 'teenagers', 'punishment', 'prime', 'obscure', 'pete', 'experimental', 'boyle', 'revolutionary', 'kim', 'malone', 'mountains', 'mayor', 'listed', 'household', 'objective', 'fields', 'sincere', 'dan', 'rooms', 'germans', 'politics', 'inspector', 'von', 'niro', 'access', 'row', 'repeat', 'thrills', 'kansas', 'fido', 'consistent', 'understated', 'advertising', 'angels', 'campbell', 'doc', 'package', 'cracking', 'quinn', 'sneak', 'planned', 'sh', 'writes', 'grandfather', 'griffith', 'equipment', 'recorded', 'othello', 'dickens', 'boxing', 'contest', 'beast', 'eyre', 'lately', 'strangely', 'isolated', 'avoided', 'treasure', 'focusing', 'randy', 'alicia', 'ape', 'faults', 'frankie', 'baseball', 'israel', 'latin', 'nightmares', 'detailed', 'bank', 'carl', 'deniro', 'witches', 'ripped', 'demented', 'rabbit', 'peters', 'orders', 'attracted', 'argument', 'rangers', 'titled', 'atlantis', 'superficial', 'homer', 'unnecessary', 'tooth', 'wizard', 'melting', 'jaws', 'stunned', 'namely', 'darren', 'toy', 'giallo', 'tarantino', 'chicken', 'motivation', 'gundam', 'seed', 'kingdom', 'accuracy', 'psychic', 'wholly', 'coast', 'jerk', 'sinatra', 'rendition', 'macy', 'hank', 'corporate', 'reflection', 'idiots', 'comics', 'stanwyck', 'sleeping', 'catching', 'tarzan', 'jungle', 'introduces', 'intrigue', 'counter', 'bang', 'phil', 'monkey', 'lucas', 'misery', 'explosion', 'explicit', 'unpleasant', 'rick', 'joel', 'ethan', 'shanghai', 'engaged', 'species', 'chaplin', 'orange', 'adapted', 'photos', 'astaire', 'ginger', 'waited', 'conscious', 'gregory', 'streisand', 'brilliantly', 'signed', 'depression', 'carla', 'thrilling', 'patients', 'pretend', 'irrelevant', 'crystal', 'franco', 'chapter', 'pal', 'er', 'pokemon', 'voiced', 'expedition', 'purple', 'che', 'yelling', 'solo', 'charlotte', 'mysteries', 'suffice', 'karloff', 'rukh', 'capital', 'jeffrey', 'wound', 'hawke', 'deliberately', 'im', 'trail', 'akshay', 'felix', 'plight', 'rolled', 'cube', 'object', 'methods', 'pierce', 'brosnan', 'tacky', 'tube', 'improvement', 'messed', 'miyazaki', 'invented', 'escaped', 'stack', 'inappropriate', 'hopper', 'remaining', 'swim', 'album', 'useless', 'beatty', 'acid', 'mann', 'tribe', 'pink', 'fired', 'laws', 'flop', 'dialogues', 'rita', 'nerd', 'demons', 'moronic', 'sirk', 'circle', 'significance', 'lundgren', 'closet', 'widely', 'antwone', 'palma', 'altman', 'uwe', 'boll', 'aids', 'spacey', 'millionaire', 'deceased', 'thru', 'testament', 'baldwin', 'underlying', 'dinosaur', 'antonioni', 'pig', 'tracy', 'sabrina', 'apes', 'drake', 'andre', 'spider', 'jenny', 'safety', 'raines', 'alison', 'areas', 'damme', 'soderbergh', 'frustrating', 'hudson', 'resort', 'gadget', 'dinosaurs', 'files', 'modesty', 'grinch', 'kolchak', 'vance', 'elm', 'macarthur', 'zizek'])\n"
     ]
    }
   ],
   "source": [
    "# Take a look at the words in the vocabulary\n",
    "\n",
    "vocab_dict = vectorizer.vocabulary_.keys()\n",
    "\n",
    "print(vocab_dict)"
   ]
  },
  {
   "cell_type": "markdown",
   "metadata": {},
   "source": [
    "At this point, we have numeric training features from the Bag of Words and the original sentiment labels for each feature vector, so let's do some supervised learning! The Random Forest algorithm is included in scikit-learn (Random Forest uses many tree-based classifiers to make predictions, hence the \"forest\"). Below, we set the number of trees to 100 as a reasonable default value. More trees may (or may not) perform better, but will certainly take longer to run. Likewise, the more features you include for each review, the longer this will take."
   ]
  },
  {
   "cell_type": "code",
   "execution_count": 15,
   "metadata": {},
   "outputs": [
    {
     "name": "stdout",
     "output_type": "stream",
     "text": [
      "Training the random forest...\n"
     ]
    }
   ],
   "source": [
    "print(\"Training the random forest...\")\n",
    "\n",
    "from sklearn.ensemble import RandomForestClassifier\n",
    "\n",
    "# Initialize a Random Forest classifier with 100 trees\n",
    "forest = RandomForestClassifier(n_estimators = 100) \n",
    "\n",
    "# Fit the forest to the training set, using the bag of words as \n",
    "# features and the sentiment labels as the response variable\n",
    "#\n",
    "# This may take a few minutes to run\n",
    "forest = forest.fit( train_data_features, train[\"sentiment\"] )"
   ]
  },
  {
   "cell_type": "markdown",
   "metadata": {},
   "source": [
    "All that remains is to run the trained Random Forest on our test set\n",
    "\n",
    "Note that when we use the Bag of Words for the test set, we only call \"transform\", not \"fit_transform\" as we did for the training set. In machine learning, you shouldn't use the test set to fit your model, otherwise you run the risk of overfitting. For this reason, we keep the test set off-limits until we are ready to make predictions."
   ]
  },
  {
   "cell_type": "code",
   "execution_count": 18,
   "metadata": {},
   "outputs": [
    {
     "name": "stdout",
     "output_type": "stream",
     "text": [
      "Cleaning and parsing the test set movie reviews...\n",
      "\n",
      "Review 1000 of 25000\n",
      "\n",
      "Review 2000 of 25000\n",
      "\n",
      "Review 3000 of 25000\n",
      "\n",
      "Review 4000 of 25000\n",
      "\n",
      "Review 5000 of 25000\n",
      "\n",
      "Review 6000 of 25000\n",
      "\n",
      "Review 7000 of 25000\n",
      "\n",
      "Review 8000 of 25000\n",
      "\n",
      "Review 9000 of 25000\n",
      "\n",
      "Review 10000 of 25000\n",
      "\n",
      "Review 11000 of 25000\n",
      "\n",
      "Review 12000 of 25000\n",
      "\n",
      "Review 13000 of 25000\n",
      "\n",
      "Review 14000 of 25000\n",
      "\n",
      "Review 15000 of 25000\n",
      "\n",
      "Review 16000 of 25000\n",
      "\n",
      "Review 17000 of 25000\n",
      "\n",
      "Review 18000 of 25000\n",
      "\n",
      "Review 19000 of 25000\n",
      "\n",
      "Review 20000 of 25000\n",
      "\n",
      "Review 21000 of 25000\n",
      "\n",
      "Review 22000 of 25000\n",
      "\n",
      "Review 23000 of 25000\n",
      "\n",
      "Review 24000 of 25000\n",
      "\n",
      "Review 25000 of 25000\n",
      "\n"
     ]
    }
   ],
   "source": [
    "# Read the test data\n",
    "test = pd.read_csv(r\"C:\\Users\\Pangloss\\Downloads\\word2vec-nlp-tutorial\\testData.tsv\", header=0, delimiter=\"\\t\", \\\n",
    "                   quoting=3 )\n",
    "\n",
    "# Verify that there are 25,000 rows and 2 columns\n",
    "test.shape\n",
    "\n",
    "# Create an empty list and append the clean reviews one by one\n",
    "num_reviews = len(test[\"review\"])\n",
    "clean_test_reviews = [] \n",
    "\n",
    "print(\"Cleaning and parsing the test set movie reviews...\\n\")\n",
    "for i in range(0,num_reviews):\n",
    "    if( (i+1) % 1000 == 0 ):\n",
    "        print(\"Review %d of %d\\n\" % (i+1, num_reviews))\n",
    "    clean_review = review_to_words( test[\"review\"][i] )\n",
    "    clean_test_reviews.append( clean_review )\n",
    "\n",
    "# Get a bag of words for the test set, and convert to a numpy array\n",
    "test_data_features = vectorizer.transform(clean_test_reviews)\n",
    "test_data_features = test_data_features.toarray()\n",
    "\n",
    "# Use the random forest to make sentiment label predictions\n",
    "result = forest.predict(test_data_features)\n",
    "\n",
    "# Copy the results to a pandas dataframe with an \"id\" column and\n",
    "# a \"sentiment\" column\n",
    "output = pd.DataFrame( data={\"id\":test[\"id\"], \"sentiment\":result} )\n",
    "\n",
    "# Use pandas to write the comma-separated output file\n",
    "output.to_csv( r\"C:\\Users\\Pangloss\\Downloads\\word2vec-nlp-tutorial\\Bag_of_Words_model.csv\", index=False, quoting=3 )"
   ]
  },
  {
   "cell_type": "code",
   "execution_count": null,
   "metadata": {},
   "outputs": [],
   "source": []
  }
 ],
 "metadata": {
  "kernelspec": {
   "display_name": "Python 3",
   "language": "python",
   "name": "python3"
  },
  "language_info": {
   "codemirror_mode": {
    "name": "ipython",
    "version": 3
   },
   "file_extension": ".py",
   "mimetype": "text/x-python",
   "name": "python",
   "nbconvert_exporter": "python",
   "pygments_lexer": "ipython3",
   "version": "3.7.3"
  }
 },
 "nbformat": 4,
 "nbformat_minor": 2
}
