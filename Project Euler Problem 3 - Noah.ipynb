{
 "cells": [
  {
   "cell_type": "code",
   "execution_count": 6,
   "metadata": {},
   "outputs": [
    {
     "name": "stdout",
     "output_type": "stream",
     "text": [
      "71\n",
      "71 is prime? yes\n",
      "839\n",
      "839 is prime? yes\n",
      "1471\n",
      "1471 is prime? yes\n",
      "6857\n",
      "6857 is prime? yes\n",
      "59569\n",
      "59569 is prime? no\n",
      "104441\n",
      "104441 is prime? no\n",
      "486847\n",
      "486847 is prime? no\n",
      "Final Answer is: 6857\n"
     ]
    }
   ],
   "source": [
    "import math\n",
    "\n",
    "toFactor = 600851475143\n",
    "\n",
    "divisors = []\n",
    "primeDivisors = []\n",
    "\n",
    "def checkPrimality(toCheck):\n",
    "    topDivisor = toCheck//2\n",
    "    primitive = \"\"\n",
    "    for divisor in range(2, topDivisor):\n",
    "        if toCheck % divisor == 0:\n",
    "            primitive = \"no\"\n",
    "    \n",
    "    if primitive != \"no\":\n",
    "        primitive = \"yes\"\n",
    "    return primitive\n",
    "\n",
    "divisor = 2\n",
    "topDivisor = toFactor // divisor\n",
    "while (divisor < topDivisor):\n",
    "    if toFactor%divisor == 0:\n",
    "        divisors.append(divisor)\n",
    "        topDivisor = toFactor // divisor\n",
    "        \n",
    "        print (str(divisor))\n",
    "        print (str(divisor) + \" is prime? \" + checkPrimality(divisor))\n",
    "        \n",
    "        if checkPrimality(divisor) == \"yes\":\n",
    "            primeDivisors.append(divisor)\n",
    "    divisor = divisor + 1\n",
    "    \n",
    "print (\"Final Answer is: \" + str(primeDivisors[-1]))"
   ]
  },
  {
   "cell_type": "code",
   "execution_count": null,
   "metadata": {},
   "outputs": [],
   "source": []
  }
 ],
 "metadata": {
  "kernelspec": {
   "display_name": "Python 3",
   "language": "python",
   "name": "python3"
  },
  "language_info": {
   "codemirror_mode": {
    "name": "ipython",
    "version": 3
   },
   "file_extension": ".py",
   "mimetype": "text/x-python",
   "name": "python",
   "nbconvert_exporter": "python",
   "pygments_lexer": "ipython3",
   "version": "3.7.3"
  }
 },
 "nbformat": 4,
 "nbformat_minor": 2
}
