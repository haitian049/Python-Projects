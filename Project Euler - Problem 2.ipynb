{
 "cells": [
  {
   "cell_type": "code",
   "execution_count": 22,
   "metadata": {},
   "outputs": [
    {
     "name": "stdout",
     "output_type": "stream",
     "text": [
      "0   0   0\n",
      "3   2   2\n",
      "6   8   10\n",
      "9   34   44\n",
      "12   144   188\n",
      "15   610   798\n",
      "18   2584   3382\n",
      "21   10946   14328\n",
      "24   46368   60696\n",
      "27   196418   257114\n",
      "30   832040   1089154\n",
      "33   3524578   4613732\n",
      "36   14930352   19544084\n",
      "39   63245986   82790070\n",
      "42   267914296   350704366\n"
     ]
    }
   ],
   "source": [
    "# Program to display the Fibonacci sequence up to n-th term where n is provided by the user\n",
    "\n",
    "# change this value for a different result\n",
    "nterms = 1000000000\n",
    "\n",
    "# uncomment to take input from the user\n",
    "#nterms = int(input(\"How many terms? \"))\n",
    "\n",
    "# first two terms\n",
    "n1 = 0\n",
    "n2 = 1\n",
    "sum = 0\n",
    "count = 0\n",
    "even_sum = 0\n",
    "\n",
    "\n",
    "while (n1 < nterms):\n",
    "    if((n1%2)==0): # Validates if the term value is even\n",
    "        sum += n1 # Adds up all the even value term\n",
    "        print(count,\" \",n1, \" \", sum)                \n",
    "    nth = n1 + n2\n",
    "    #print(count,\" \",n1, \" \")\n",
    "    # update values\n",
    "    n1 = n2\n",
    "    n2 = nth\n",
    "    count += 1"
   ]
  },
  {
   "cell_type": "code",
   "execution_count": null,
   "metadata": {},
   "outputs": [],
   "source": []
  },
  {
   "cell_type": "code",
   "execution_count": null,
   "metadata": {},
   "outputs": [],
   "source": []
  }
 ],
 "metadata": {
  "kernelspec": {
   "display_name": "Python 3",
   "language": "python",
   "name": "python3"
  },
  "language_info": {
   "codemirror_mode": {
    "name": "ipython",
    "version": 3
   },
   "file_extension": ".py",
   "mimetype": "text/x-python",
   "name": "python",
   "nbconvert_exporter": "python",
   "pygments_lexer": "ipython3",
   "version": "3.7.3"
  }
 },
 "nbformat": 4,
 "nbformat_minor": 2
}
